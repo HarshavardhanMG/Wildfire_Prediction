{
 "cells": [
  {
   "cell_type": "code",
   "execution_count": 1,
   "id": "9b890305",
   "metadata": {
    "execution": {
     "iopub.execute_input": "2025-10-10T13:36:12.030543Z",
     "iopub.status.busy": "2025-10-10T13:36:12.030299Z",
     "iopub.status.idle": "2025-10-10T13:36:17.519287Z",
     "shell.execute_reply": "2025-10-10T13:36:17.518475Z",
     "shell.execute_reply.started": "2025-10-10T13:36:12.030519Z"
    },
    "trusted": true
   },
   "outputs": [
    {
     "name": "stderr",
     "output_type": "stream",
     "text": [
      "2025-10-10 13:36:14.967963: E external/local_xla/xla/stream_executor/cuda/cuda_fft.cc:477] Unable to register cuFFT factory: Attempting to register factory for plugin cuFFT when one has already been registered\n",
      "WARNING: All log messages before absl::InitializeLog() is called are written to STDERR\n",
      "E0000 00:00:1760103374.990175 3458592 cuda_dnn.cc:8310] Unable to register cuDNN factory: Attempting to register factory for plugin cuDNN when one has already been registered\n",
      "E0000 00:00:1760103374.997025 3458592 cuda_blas.cc:1418] Unable to register cuBLAS factory: Attempting to register factory for plugin cuBLAS when one has already been registered\n"
     ]
    },
    {
     "name": "stdout",
     "output_type": "stream",
     "text": [
      "✅ TensorFlow successfully configured to use CPU only.\n",
      "   - ⚠️ WARNING: TensorFlow can still see the GPU. Conflicts may occur.\n",
      "✅ PyTorch can see and use the GPU.\n",
      "   - GPU Device Name: Tesla P100-PCIE-16GB\n",
      "📁 Data directory: /kaggle/input/modified-next-day-wildfire-spread/ndws_western_dataset\n",
      "📂 Directory exists: True\n",
      "\n",
      "✅ Setup complete!\n"
     ]
    }
   ],
   "source": [
    "# SETUP AND IMPORTS\n",
    "import numpy as np\n",
    "import pandas as pd\n",
    "from pathlib import Path\n",
    "import matplotlib.pyplot as plt\n",
    "import seaborn as sns\n",
    "from IPython.display import display\n",
    "import warnings\n",
    "import sys\n",
    "import os\n",
    "\n",
    "# --- PyTorch and Sklearn Imports --\n",
    "import torch\n",
    "import torch.nn as nn\n",
    "import torch.optim as optim\n",
    "from torch.utils.data import DataLoader, TensorDataset, Dataset, SubsetRandomSampler\n",
    "from sklearn.model_selection import KFold\n",
    "from sklearn.metrics import average_precision_score\n",
    "from tqdm.notebook import tqdm\n",
    "\n",
    "# --- TensorFlow for Data Loading ONLY --\n",
    "import tensorflow as tf\n",
    "\n",
    "# --- CRITICAL FIX v2: Isolate TensorFlow to CPU without hiding the GPU from PyTorch ---\n",
    "try:\n",
    "    physical_devices = tf.config.list_physical_devices()\n",
    "    cpus = [d for d in physical_devices if d.device_type == 'CPU']\n",
    "    tf.config.set_visible_devices(cpus)\n",
    "    print(\"✅ TensorFlow successfully configured to use CPU only.\")\n",
    "    \n",
    "    # --- VERIFICATION STEP ---\n",
    "    if not tf.config.list_physical_devices('GPU'):\n",
    "        print(\"   - Confirmed: TensorFlow does not see the GPU.\")\n",
    "    else:\n",
    "        print(\"   - ⚠️ WARNING: TensorFlow can still see the GPU. Conflicts may occur.\")\n",
    "\n",
    "    if torch.cuda.is_available():\n",
    "        print(\"✅ PyTorch can see and use the GPU.\")\n",
    "        print(f\"   - GPU Device Name: {torch.cuda.get_device_name(0)}\")\n",
    "    else:\n",
    "        print(\"   - ❌ CRITICAL WARNING: PyTorch cannot see the GPU. Training will be on CPU.\")\n",
    "\n",
    "except Exception as e:\n",
    "    print(f\"An error occurred during device configuration: {e}\")\n",
    "\n",
    "\n",
    "warnings.filterwarnings('ignore')\n",
    "\n",
    "# Set random seeds for reproducibility\n",
    "np.random.seed(42)\n",
    "torch.manual_seed(42)\n",
    "if torch.cuda.is_available():\n",
    "    torch.cuda.manual_seed_all(42)\n",
    "\n",
    "# Define data directory\n",
    "DATA_DIR = Path(\"/kaggle/input/modified-next-day-wildfire-spread/ndws_western_dataset\")\n",
    "print(f\"📁 Data directory: {DATA_DIR}\")\n",
    "print(f\"📂 Directory exists: {DATA_DIR.exists()}\")\n",
    "\n",
    "# --- CORRECTED TFRecord PARSING FUNCTION --\n",
    "def parse_tfrecord_flexible(example):\n",
    "    \"\"\"\n",
    "    Parse TFRecord with the CORRECT feature description.\n",
    "    \"\"\"\n",
    "    feature_description = {}\n",
    "    \n",
    "    expected_features = [\n",
    "        'elevation', 'NDVI', 'erc', 'pr', 'pdsi', 'population',\n",
    "        'impervious', 'water', 'tmp_day', 'tmp_75', 'wind_avg', 'wind_75',\n",
    "        'wdir_wind', 'wdir_gust', 'gust_med', 'avg_sph', 'bi', 'chili',\n",
    "        'fuel1', 'fuel2', 'fuel3', 'viirs_PrevFireMask', 'viirs_FireMask'\n",
    "    ]\n",
    "    \n",
    "    for feat in expected_features:\n",
    "        feature_description[feat] = tf.io.FixedLenFeature([64, 64], tf.float32)\n",
    "    \n",
    "    parsed_features = tf.io.parse_single_example(example, feature_description)\n",
    "    return parsed_features\n",
    "\n",
    "print(\"\\n✅ Setup complete!\")"
   ]
  },
  {
   "cell_type": "code",
   "execution_count": 2,
   "id": "a3375bad",
   "metadata": {
    "execution": {
     "iopub.execute_input": "2025-10-10T13:36:17.521472Z",
     "iopub.status.busy": "2025-10-10T13:36:17.520950Z",
     "iopub.status.idle": "2025-10-10T13:36:17.535815Z",
     "shell.execute_reply": "2025-10-10T13:36:17.535039Z",
     "shell.execute_reply.started": "2025-10-10T13:36:17.521451Z"
    },
    "trusted": true
   },
   "outputs": [
    {
     "name": "stdout",
     "output_type": "stream",
     "text": [
      "✅ Visualization and results-saving functions are ready!\n"
     ]
    }
   ],
   "source": [
    "# --- UPDATED VISUALIZATION FUNCTION (WITH SAVE CAPABILITY) ---\n",
    "\n",
    "def visualize_fire_predictions_pytorch(model, X_test, y_test, num_samples=4, save_path=None):\n",
    "    \"\"\"\n",
    "    Visualize fire prediction results and optionally save the plot to a file.\n",
    "    \"\"\"\n",
    "    if len(X_test) == 0:\n",
    "        print(\"❌ No test samples available for visualization\")\n",
    "        return\n",
    "\n",
    "    device = torch.device(\"cuda\" if torch.cuda.is_available() else \"cpu\")\n",
    "    model.to(device)\n",
    "    model.eval()\n",
    "\n",
    "    X_test_subset = X_test[:num_samples]\n",
    "    y_test_subset = y_test[:num_samples]\n",
    "    \n",
    "    with torch.no_grad():\n",
    "        X_test_tensor = torch.from_numpy(np.transpose(X_test_subset, (0, 3, 1, 2))).float().to(device)\n",
    "        predictions_tensor = model(X_test_tensor)\n",
    "        predictions = np.transpose(predictions_tensor.cpu().numpy(), (0, 2, 3, 1))\n",
    "\n",
    "    fig, axes = plt.subplots(num_samples, 3, figsize=(15, 5 * num_samples))\n",
    "    if num_samples == 1:\n",
    "        axes = axes.reshape(1, -1)\n",
    "\n",
    "    for i in range(num_samples):\n",
    "        input_fire = X_test_subset[i, :, :, 0]\n",
    "        true_fire = y_test_subset[i, :, :, 0]\n",
    "        pred_fire = predictions[i, :, :, 0]\n",
    "\n",
    "        axes[i, 0].imshow(input_fire, cmap='Reds', vmin=0, vmax=1)\n",
    "        axes[i, 0].set_title(f'Sample {i+1}: Input Fire (t)')\n",
    "        axes[i, 0].axis('off')\n",
    "\n",
    "        axes[i, 1].imshow(true_fire, cmap='Reds', vmin=0, vmax=1)\n",
    "        axes[i, 1].set_title(f'True Fire (t+1)')\n",
    "        axes[i, 1].axis('off')\n",
    "\n",
    "        axes[i, 2].imshow(pred_fire, cmap='Reds', vmin=0, vmax=1)\n",
    "        axes[i, 2].set_title(f'Predicted Fire (t+1)')\n",
    "        axes[i, 2].axis('off')\n",
    "\n",
    "    plt.tight_layout()\n",
    "\n",
    "    # <<< NEW: Save the figure if a path is provided >>>\n",
    "    if save_path:\n",
    "        try:\n",
    "            plt.savefig(save_path, bbox_inches='tight', dpi=150)\n",
    "            print(f\"✅ Visualization saved to '{save_path}'\")\n",
    "        except Exception as e:\n",
    "            print(f\"⚠️ Could not save visualization. Error: {e}\")\n",
    "\n",
    "    plt.show() # Display the plot after saving\n",
    "\n",
    "    # Return the prediction statistics so they can be saved to the results file\n",
    "    stats = {\n",
    "        \"true_fire_pixels\": np.sum(y_test_subset > 0.1),\n",
    "        \"predicted_fire_pixels\": np.sum(predictions > 0.5),\n",
    "        \"average_prediction_confidence\": np.mean(predictions)\n",
    "    }\n",
    "    \n",
    "    # Print statistics to the notebook\n",
    "    print(f\"\\n📊 PREDICTION STATISTICS:\")\n",
    "    print(f\"🔥 True fire pixels in displayed samples: {stats['true_fire_pixels']}\")\n",
    "    print(f\"🎯 Predicted fire pixels (threshold > 0.5): {stats['predicted_fire_pixels']}\")\n",
    "    print(f\"📈 Average prediction confidence: {stats['average_prediction_confidence']:.4f}\")\n",
    "    \n",
    "    return stats\n",
    "\n",
    "# --- NEW FUNCTION TO SAVE ALL RESULTS TO A TEXT FILE ---\n",
    "def save_results_to_file(model_name, cv_results, viz_stats, file_path=\"model_results.txt\"):\n",
    "    \"\"\"\n",
    "    Saves the cross-validation and visualization statistics for a model to a text file.\n",
    "    \"\"\"\n",
    "    mean_ap = np.mean(cv_results)\n",
    "    std_ap = np.std(cv_results)\n",
    "\n",
    "    try:\n",
    "        with open(file_path, 'a') as f: # 'a' for append mode\n",
    "            f.write(\"=\"*70 + \"\\n\")\n",
    "            f.write(f\"MODEL: {model_name}\\n\")\n",
    "            f.write(\"=\"*70 + \"\\n\\n\")\n",
    "            \n",
    "            f.write(\"--- Cross-Validation Summary ---\\n\")\n",
    "            f.write(f\"Mean Average Precision (AP): {mean_ap:.4f} ± {std_ap:.4f}\\n\")\n",
    "            f.write(f\"Individual Fold AP Scores: {[f'{score:.4f}' for score in cv_results]}\\n\\n\")\n",
    "\n",
    "            if viz_stats:\n",
    "                f.write(\"--- Visualization Sample Statistics ---\\n\")\n",
    "                f.write(f\"True Fire Pixels: {viz_stats['true_fire_pixels']}\\n\")\n",
    "                f.write(f\"Predicted Fire Pixels (>0.5): {viz_stats['predicted_fire_pixels']}\\n\")\n",
    "                f.write(f\"Average Prediction Confidence: {viz_stats['average_prediction_confidence']:.4f}\\n\\n\\n\")\n",
    "        \n",
    "        print(f\"✅ Results for '{model_name}' appended to '{file_path}'\")\n",
    "    except Exception as e:\n",
    "        print(f\"⚠️ Could not save results to file. Error: {e}\")\n",
    "\n",
    "print(\"✅ Visualization and results-saving functions are ready!\")"
   ]
  },
  {
   "cell_type": "markdown",
   "id": "502f51b8",
   "metadata": {},
   "source": [
    "# 🔥 SPATIAL FIRE SPREAD PREDICTION WITH U-NET ARCHITECTURE\n",
    "\n",
    "**CRITICAL FIX**: This section implements proper spatial fire spread prediction using:\n",
    "- ✅ **Raw spatial features** (64x64 grids) - NOT statistical summaries\n",
    "- ✅ **All 23 environmental features** as spatial inputs\n",
    "- ✅ **U-Net architecture** for pixel-level fire spread prediction\n",
    "- ✅ **Temporal prediction**: PrevFireMask(t) → FireMask(t+1)\n",
    "- ✅ **Research-based approach** following wildfire prediction literature\n",
    "\n",
    "**Key Point**: The engineered features above are for EDA/visualization only. All prediction uses RAW SPATIAL DATA."
   ]
  },
  {
   "cell_type": "code",
   "execution_count": 3,
   "id": "29663286",
   "metadata": {
    "execution": {
     "iopub.execute_input": "2025-10-10T13:36:17.536902Z",
     "iopub.status.busy": "2025-10-10T13:36:17.536617Z",
     "iopub.status.idle": "2025-10-10T13:36:17.555622Z",
     "shell.execute_reply": "2025-10-10T13:36:17.554940Z",
     "shell.execute_reply.started": "2025-10-10T13:36:17.536875Z"
    },
    "trusted": true
   },
   "outputs": [],
   "source": [
    "# --- FINAL DATA PROCESSOR: COMBINING TIME-SERIES AND CURRENT DAY DATA ---\n",
    "\n",
    "class CombinedFireDataProcessor:\n",
    "    \"\"\"\n",
    "    Processes data to give the model the best of both worlds:\n",
    "    - Historical environmental context (from the past)\n",
    "    - Current day fire and environmental state\n",
    "    \"\"\"\n",
    "    def __init__(self, data_dir=DATA_DIR, num_timesteps=4):\n",
    "        self.data_dir = data_dir\n",
    "        self.num_timesteps = num_timesteps # Past days of environmental data\n",
    "        self.environmental_features = [\n",
    "            'elevation', 'NDVI', 'erc', 'pr', 'pdsi', 'population',\n",
    "            'impervious', 'water', 'tmp_day', 'tmp_75', 'wind_avg', 'wind_75',\n",
    "            'wdir_wind', 'wdir_gust', 'gust_med', 'avg_sph', 'bi', 'chili',\n",
    "            'fuel1', 'fuel2', 'fuel3'\n",
    "        ]\n",
    "\n",
    "    def load_raw_spatial_data(self, max_sequences=None):\n",
    "        \"\"\"\n",
    "        Load and create the ultimate time-series sequences.\n",
    "        Input X: viirs_PrevFireMask(t) + Env Features(t-4 to t-1) + Env Features(t)\n",
    "        Target Y: viirs_FireMask(t+1)\n",
    "        \"\"\"\n",
    "        print(\"🔥 Loading RAW SPATIAL DATA for COMBINED (Time-Series + Current Day) prediction...\")\n",
    "        \n",
    "        tfrecord_files = list(self.data_dir.glob(\"*.tfrecord\"))\n",
    "        if not tfrecord_files:\n",
    "            print(\"❌ No TFRecord files found!\")\n",
    "            return None, None\n",
    "        print(f\"📁 Found {len(tfrecord_files)} TFRecord files\")\n",
    "\n",
    "        all_samples_flat = []\n",
    "        # Load all daily snapshots into one list\n",
    "        for file_path in tfrecord_files:\n",
    "            dataset = tf.data.TFRecordDataset(str(file_path))\n",
    "            for raw_record in dataset:\n",
    "                try:\n",
    "                    parsed_sample = parse_tfrecord_flexible(raw_record)\n",
    "                    sample_data = {name: tensor.numpy() for name, tensor in parsed_sample.items()}\n",
    "                    if 'viirs_PrevFireMask' in sample_data and 'viirs_FireMask' in sample_data:\n",
    "                        all_samples_flat.append(sample_data)\n",
    "                except Exception as e:\n",
    "                    print(f\"❗️ FAILED TO PROCESS A RECORD in {file_path.name}. Error: {e}\")\n",
    "                    break\n",
    "            else: continue\n",
    "            break\n",
    "        \n",
    "        print(f\"  ...Loaded {len(all_samples_flat)} total individual samples.\")\n",
    "\n",
    "        if not all_samples_flat:\n",
    "             print(\"❌ No valid samples were loaded.\")\n",
    "             return None, None\n",
    "\n",
    "        # --- COMBINED SLIDING WINDOW LOGIC ---\n",
    "        spatial_inputs, spatial_targets = [], []\n",
    "        # Total window size = num_timesteps (past env) + 1 (current day) + 1 (target day)\n",
    "        sequence_len = self.num_timesteps + 2\n",
    "        \n",
    "        for i in range(len(all_samples_flat) - sequence_len):\n",
    "            if max_sequences and len(spatial_inputs) >= max_sequences:\n",
    "                break\n",
    "\n",
    "            # Define the time windows\n",
    "            past_environmental_sequence = all_samples_flat[i : i + self.num_timesteps] # t-4 to t-1\n",
    "            current_day_sample = all_samples_flat[i + self.num_timesteps]              # day 't'\n",
    "            next_day_sample = all_samples_flat[i + self.num_timesteps + 1]           # day 't+1'\n",
    "\n",
    "            # --- Assemble the Input Tensor (X) ---\n",
    "            input_features = []\n",
    "            \n",
    "            # 1. Add the fire mask from the CURRENT day (t)\n",
    "            input_features.append(current_day_sample['viirs_PrevFireMask'].reshape(64, 64, 1))\n",
    "\n",
    "            # 2. Add environmental features from the PAST days (t-4 to t-1)\n",
    "            for past_sample in past_environmental_sequence:\n",
    "                for feature_name in self.environmental_features:\n",
    "                    if feature_name in past_sample:\n",
    "                        input_features.append(past_sample[feature_name].reshape(64, 64, 1))\n",
    "            \n",
    "            # 3. Add environmental features from the CURRENT day (t)\n",
    "            for feature_name in self.environmental_features:\n",
    "                 if feature_name in current_day_sample:\n",
    "                    input_features.append(current_day_sample[feature_name].reshape(64, 64, 1))\n",
    "\n",
    "            # --- Assemble the Target Tensor (y) ---\n",
    "            target_mask = next_day_sample['viirs_FireMask'].reshape(64, 64, 1)\n",
    "\n",
    "            if len(input_features) > 1:\n",
    "                spatial_inputs.append(np.concatenate(input_features, axis=2))\n",
    "                spatial_targets.append(target_mask)\n",
    "\n",
    "        if not spatial_inputs:\n",
    "            print(\"❌ Could not create any sequences with the combined logic!\")\n",
    "            return None, None\n",
    "            \n",
    "        X_spatial = np.array(spatial_inputs, dtype=np.float32)\n",
    "        y_spatial = np.array(spatial_targets, dtype=np.float32)\n",
    "\n",
    "        print(f\"\\n✅ COMBINED DATA LOADING COMPLETE\")\n",
    "        print(f\"📊 Spatial Input Shape: {X_spatial.shape}\")\n",
    "        print(f\"📊 Spatial Target Shape: {y_spatial.shape}\")\n",
    "        return X_spatial, y_spatial"
   ]
  },
  {
   "cell_type": "code",
   "execution_count": 4,
   "id": "0733c145-5ef0-484b-8daf-fadef031aca1",
   "metadata": {
    "execution": {
     "iopub.execute_input": "2025-10-10T13:36:17.556638Z",
     "iopub.status.busy": "2025-10-10T13:36:17.556402Z",
     "iopub.status.idle": "2025-10-10T13:36:17.576200Z",
     "shell.execute_reply": "2025-10-10T13:36:17.575508Z",
     "shell.execute_reply.started": "2025-10-10T13:36:17.556622Z"
    },
    "trusted": true
   },
   "outputs": [],
   "source": [
    "# --- NEW: CUSTOM PYTORCH DATASET FOR EFFICIENT MEMORY USAGE ---\n",
    "import random\n",
    "from torch.utils.data import Dataset, SubsetRandomSampler\n",
    "\n",
    "class WildfireDataset(Dataset):\n",
    "    \"\"\"\n",
    "    PyTorch Dataset for loading wildfire sequences \"just-in-time\" from TFRecords.\n",
    "    This avoids loading the entire dataset into memory.\n",
    "    \"\"\"\n",
    "    def __init__(self, data_dir, num_timesteps=4, max_sequences=None, normalization_stats=None):\n",
    "        self.data_dir = data_dir\n",
    "        self.num_timesteps = num_timesteps\n",
    "        self.normalization_stats = normalization_stats\n",
    "        self.sequence_len = self.num_timesteps + 2 # Total daily records needed for one sequence\n",
    "        \n",
    "        self.environmental_features = [\n",
    "            'elevation', 'NDVI', 'erc', 'pr', 'pdsi', 'population', 'impervious', 'water', \n",
    "            'tmp_day', 'tmp_75', 'wind_avg', 'wind_75', 'wdir_wind', 'wdir_gust', 'gust_med', \n",
    "            'avg_sph', 'bi', 'chili', 'fuel1', 'fuel2', 'fuel3'\n",
    "        ]\n",
    "\n",
    "        print(\"🔥 Initializing WildfireDataset: Building sequence index...\")\n",
    "        self.tfrecord_files = sorted(list(self.data_dir.glob(\"*.tfrecord\")))\n",
    "        self.index = self._build_index()\n",
    "\n",
    "        if max_sequences is not None and max_sequences < len(self.index):\n",
    "            print(f\" M Randomly sampling {max_sequences} sequences from the full dataset.\")\n",
    "            self.index = random.sample(self.index, max_sequences)\n",
    "            \n",
    "        print(f\"✅ Index created. Dataset contains {len(self.index)} sequences.\")\n",
    "\n",
    "    def _build_index(self):\n",
    "        \"\"\" Scans TFRecords and creates a master list of all valid sequence start points. \"\"\"\n",
    "        index = []\n",
    "        for file_path in self.tfrecord_files:\n",
    "            # Get the total number of records in the file quickly\n",
    "            num_records = sum(1 for _ in tf.data.TFRecordDataset(str(file_path)))\n",
    "            \n",
    "            # A sequence can start at 'i' if there are enough records after it\n",
    "            for i in range(num_records - self.sequence_len + 1):\n",
    "                index.append((str(file_path), i)) # Store (filepath, record_offset)\n",
    "        return index\n",
    "\n",
    "    def __len__(self):\n",
    "        return len(self.index)\n",
    "\n",
    "    def __getitem__(self, idx):\n",
    "        \"\"\" Loads and processes a single sequence from disk on demand. \"\"\"\n",
    "        file_path, record_offset = self.index[idx]\n",
    "        \n",
    "        # Use tf.data to efficiently skip to the required records\n",
    "        dataset = tf.data.TFRecordDataset(file_path)\n",
    "        raw_records = dataset.skip(record_offset).take(self.sequence_len)\n",
    "        \n",
    "        # Load the small set of daily samples needed for this one sequence\n",
    "        daily_samples = []\n",
    "        for raw_record in raw_records:\n",
    "            parsed_sample = parse_tfrecord_flexible(raw_record)\n",
    "            sample_data = {name: tensor.numpy() for name, tensor in parsed_sample.items()}\n",
    "            daily_samples.append(sample_data)\n",
    "        \n",
    "        # --- Assemble the Input and Target Tensors (same logic as before) ---\n",
    "        past_environmental_sequence = daily_samples[0 : self.num_timesteps]\n",
    "        current_day_sample = daily_samples[self.num_timesteps]\n",
    "        next_day_sample = daily_samples[self.num_timesteps + 1]\n",
    "\n",
    "        input_features = []\n",
    "        input_features.append(current_day_sample['viirs_PrevFireMask'].reshape(64, 64, 1))\n",
    "        for past_sample in past_environmental_sequence:\n",
    "            for feature_name in self.environmental_features:\n",
    "                if feature_name in past_sample:\n",
    "                    input_features.append(past_sample[feature_name].reshape(64, 64, 1))\n",
    "        for feature_name in self.environmental_features:\n",
    "             if feature_name in current_day_sample:\n",
    "                input_features.append(current_day_sample[feature_name].reshape(64, 64, 1))\n",
    "        \n",
    "        # Concatenate and transpose for PyTorch (C, H, W)\n",
    "        x = np.concatenate(input_features, axis=2).astype(np.float32)\n",
    "        x = np.transpose(x, (2, 0, 1))\n",
    "        \n",
    "        # Get target mask and transpose\n",
    "        y = next_day_sample['viirs_FireMask'].reshape(64, 64, 1).astype(np.float32)\n",
    "        y = (np.transpose(y, (2, 0, 1)) > 0.1).astype(np.float32)\n",
    "\n",
    "        x_tensor = torch.from_numpy(x)\n",
    "        y_tensor = torch.from_numpy(y)\n",
    "        \n",
    "        # Apply normalization if stats are provided\n",
    "        if self.normalization_stats is not None:\n",
    "            means = self.normalization_stats['means']\n",
    "            stds = self.normalization_stats['stds']\n",
    "            x_tensor = (x_tensor - means) / stds\n",
    "\n",
    "        return x_tensor, y_tensor\n",
    "\n",
    "def calculate_normalization_stats(dataset, num_samples=500):\n",
    "    \"\"\" Calculates mean and std for normalization on a subset of the data. \"\"\"\n",
    "    print(f\"📊 Calculating normalization statistics on {num_samples} random samples...\")\n",
    "    \n",
    "    # Ensure we don't request more samples than available\n",
    "    num_samples = min(num_samples, len(dataset))\n",
    "    \n",
    "    # Create a temporary loader to get a random subset of data\n",
    "    sampler = SubsetRandomSampler(random.sample(range(len(dataset)), num_samples))\n",
    "    loader = DataLoader(dataset, batch_size=16, sampler=sampler, num_workers=2)\n",
    "    \n",
    "    # Use a running computation for mean and std\n",
    "    channels_sum, channels_squared_sum, num_batches = 0, 0, 0\n",
    "    for inputs, _ in tqdm(loader, desc=\"Calculating Stats\"):\n",
    "        # inputs shape is (B, C, H, W)\n",
    "        channels_sum += torch.mean(inputs, dim=[0, 2, 3])\n",
    "        channels_squared_sum += torch.mean(inputs**2, dim=[0, 2, 3])\n",
    "        num_batches += 1\n",
    "        \n",
    "    mean = channels_sum / num_batches\n",
    "    std = (channels_squared_sum / num_batches - mean**2)**0.5\n",
    "    std[std == 0] = 1 # Avoid division by zero\n",
    "    \n",
    "    # Reshape to (C, 1, 1) for broadcasting during normalization\n",
    "    stats = {\n",
    "        'means': mean.reshape(-1, 1, 1),\n",
    "        'stds': std.reshape(-1, 1, 1)\n",
    "    }\n",
    "    print(\"✅ Normalization stats calculated.\")\n",
    "    return stats"
   ]
  },
  {
   "cell_type": "code",
   "execution_count": 5,
   "id": "f664abad",
   "metadata": {
    "execution": {
     "iopub.execute_input": "2025-10-10T13:36:17.577443Z",
     "iopub.status.busy": "2025-10-10T13:36:17.576972Z",
     "iopub.status.idle": "2025-10-10T13:36:17.602397Z",
     "shell.execute_reply": "2025-10-10T13:36:17.601688Z",
     "shell.execute_reply.started": "2025-10-10T13:36:17.577426Z"
    },
    "trusted": true
   },
   "outputs": [],
   "source": [
    "# --- PYTORCH ATTENTION U-NET ARCHITECTURE, LOSS, AND TRAINING FUNCTION ---\n",
    "\n",
    "import os\n",
    "\n",
    "# --- MODEL AND LOSS DEFINITIONS (Unchanged from previous versions) ---\n",
    "class BCEDiceLoss(nn.Module):\n",
    "    def __init__(self, weight=0.5):\n",
    "        super(BCEDiceLoss, self).__init__()\n",
    "        self.weight = weight\n",
    "    def forward(self, inputs, targets, smooth=1e-6):\n",
    "        inputs_flat = inputs.view(-1); targets_flat = targets.view(-1)\n",
    "        bce_loss = nn.BCELoss()(inputs_flat, targets_flat)\n",
    "        intersection = (inputs_flat * targets_flat).sum()\n",
    "        dice_score = (2. * intersection + smooth) / (inputs_flat.sum() + targets_flat.sum() + smooth)\n",
    "        dice_loss = 1 - dice_score\n",
    "        return self.weight * bce_loss + (1 - self.weight) * dice_loss\n",
    "\n",
    "class AttentionGate(nn.Module):\n",
    "    def __init__(self, F_g, F_l, F_int):\n",
    "        super(AttentionGate, self).__init__()\n",
    "        self.W_g = nn.Sequential(nn.Conv2d(F_g, F_int, 1, 1, 0, bias=False), nn.BatchNorm2d(F_int))\n",
    "        self.W_x = nn.Sequential(nn.Conv2d(F_l, F_int, 1, 1, 0, bias=False), nn.BatchNorm2d(F_int))\n",
    "        self.psi = nn.Sequential(nn.Conv2d(F_int, 1, 1, 1, 0, bias=True), nn.BatchNorm2d(1), nn.Sigmoid())\n",
    "        self.relu = nn.ReLU(inplace=True)\n",
    "    def forward(self, g, x):\n",
    "        g1 = self.W_g(g); x1 = self.W_x(x); psi = self.relu(g1 + x1); psi = self.psi(psi)\n",
    "        return x * psi\n",
    "\n",
    "class AttentionUNet(nn.Module):\n",
    "    def __init__(self, in_channels, out_channels, filters_base=32):\n",
    "        super(AttentionUNet, self).__init__()\n",
    "        def _conv_block(in_c, out_c): return nn.Sequential(nn.Conv2d(in_c, out_c, 3, padding=1, bias=False), nn.BatchNorm2d(out_c), nn.ReLU(inplace=True), nn.Conv2d(out_c, out_c, 3, padding=1, bias=False), nn.BatchNorm2d(out_c), nn.ReLU(inplace=True))\n",
    "        self.Maxpool = nn.MaxPool2d(2, 2)\n",
    "        self.Conv1 = _conv_block(in_channels, filters_base); self.Conv2 = _conv_block(filters_base, filters_base*2); self.Conv3 = _conv_block(filters_base*2, filters_base*4); self.Conv4 = _conv_block(filters_base*4, filters_base*8); self.Conv5 = _conv_block(filters_base*8, filters_base*16)\n",
    "        self.Up5 = nn.ConvTranspose2d(filters_base*16, filters_base*8, 2, 2); self.Att5 = AttentionGate(filters_base*8, filters_base*8, filters_base*4); self.Up_conv5 = _conv_block(filters_base*16, filters_base*8)\n",
    "        self.Up4 = nn.ConvTranspose2d(filters_base*8, filters_base*4, 2, 2); self.Att4 = AttentionGate(filters_base*4, filters_base*4, filters_base*2); self.Up_conv4 = _conv_block(filters_base*8, filters_base*4)\n",
    "        self.Up3 = nn.ConvTranspose2d(filters_base*4, filters_base*2, 2, 2); self.Att3 = AttentionGate(filters_base*2, filters_base*2, filters_base); self.Up_conv3 = _conv_block(filters_base*4, filters_base*2)\n",
    "        self.Up2 = nn.ConvTranspose2d(filters_base*2, filters_base, 2, 2); self.Att2 = AttentionGate(filters_base, filters_base, filters_base//2); self.Up_conv2 = _conv_block(filters_base*2, filters_base)\n",
    "        self.Conv_1x1 = nn.Conv2d(filters_base, out_channels, 1, 1, 0)\n",
    "    def forward(self, x):\n",
    "        x1 = self.Conv1(x); x2 = self.Maxpool(x1); x2 = self.Conv2(x2); x3 = self.Maxpool(x2); x3 = self.Conv3(x3); x4 = self.Maxpool(x3); x4 = self.Conv4(x4); x5 = self.Maxpool(x4); x5 = self.Conv5(x5)\n",
    "        d5 = self.Up5(x5); x4_att = self.Att5(g=d5, x=x4); d5 = torch.cat((x4_att, d5), dim=1); d5 = self.Up_conv5(d5)\n",
    "        d4 = self.Up4(d5); x3_att = self.Att4(g=d4, x=x3); d4 = torch.cat((x3_att, d4), dim=1); d4 = self.Up_conv4(d4)\n",
    "        d3 = self.Up3(d4); x2_att = self.Att3(g=d3, x=x2); d3 = torch.cat((x2_att, d3), dim=1); d3 = self.Up_conv3(d3)\n",
    "        d2 = self.Up2(d3); x1_att = self.Att2(g=d2, x=x1); d2 = torch.cat((x1_att, d2), dim=1); d2 = self.Up_conv2(d2)\n",
    "        d1 = self.Conv_1x1(d2); return torch.sigmoid(d1)\n",
    "\n",
    "\n",
    "# --- 3. REFACTORED TRAINING FUNCTION ---\n",
    "def train_fire_unet_cv_pytorch(dataset, n_splits=5, epochs=20, batch_size=4, checkpoint_path=\"attention_unet_checkpoint.pth\"):\n",
    "    device = torch.device(\"cuda\" if torch.cuda.is_available() else \"cpu\")\n",
    "    use_gpu = torch.cuda.is_available()\n",
    "    print(f\"🚀 INITIATING TRAINING ON {device} WITH {n_splits}-FOLD CV\")\n",
    "    print(f\"🎯 Main Metric: Average Precision (AP)\")\n",
    "    print(\"=\" * 60)\n",
    "    \n",
    "    kfold = KFold(n_splits=n_splits, shuffle=True, random_state=42)\n",
    "    fold_ap_scores = []\n",
    "    last_model = None\n",
    "    start_fold = 0\n",
    "    checkpoint = None\n",
    "\n",
    "    if os.path.exists(checkpoint_path):\n",
    "        # <<< FIX: Added weights_only=False to load checkpoints with non-tensor data >>>\n",
    "        checkpoint = torch.load(checkpoint_path, weights_only=False)\n",
    "        start_fold = checkpoint['fold']\n",
    "        if checkpoint['epoch'] == epochs - 1: start_fold += 1\n",
    "        fold_ap_scores = checkpoint.get('fold_ap_scores', [])\n",
    "        print(f\"🔄 Resuming training from fold {start_fold}\")\n",
    "\n",
    "    # K-Fold now splits the indices of the dataset, not the data itself\n",
    "    for fold, (train_idx, val_idx) in enumerate(kfold.split(dataset)):\n",
    "        if fold < start_fold: continue\n",
    "        \n",
    "        print(f\"\\n========== FOLD {fold + 1}/{n_splits} ==========\")\n",
    "        # Create samplers for the current fold\n",
    "        train_sampler = SubsetRandomSampler(train_idx)\n",
    "        val_sampler = SubsetRandomSampler(val_idx)\n",
    "        \n",
    "        # DataLoaders use the dataset and samplers\n",
    "        train_loader = DataLoader(dataset, batch_size=batch_size, sampler=train_sampler, num_workers=2, pin_memory=use_gpu)\n",
    "        val_loader = DataLoader(dataset, batch_size=batch_size, sampler=val_sampler, num_workers=2, pin_memory=use_gpu)\n",
    "        \n",
    "        # The model's input channels are determined by the dataset's output\n",
    "        sample_x, _ = dataset[0]\n",
    "        model = AttentionUNet(in_channels=sample_x.shape[0], out_channels=1).to(device)\n",
    "        criterion = BCEDiceLoss(weight=0.5)\n",
    "        optimizer = optim.Adam(model.parameters(), lr=1e-4)\n",
    "        \n",
    "        start_epoch = 0\n",
    "        if checkpoint is not None and fold == checkpoint['fold'] and checkpoint['epoch'] < epochs - 1:\n",
    "            model.load_state_dict(checkpoint['model_state_dict'])\n",
    "            optimizer.load_state_dict(checkpoint['optimizer_state_dict'])\n",
    "            start_epoch = checkpoint['epoch'] + 1\n",
    "            print(f\"🔄 Resuming fold {fold+1} from epoch {start_epoch}\")\n",
    "\n",
    "        print(f\"🔥 STARTING TRAINING...\")\n",
    "        for epoch in range(start_epoch, epochs):\n",
    "            model.train()\n",
    "            progress_bar = tqdm(train_loader, desc=f\"Epoch {epoch + 1}/{epochs}\", leave=False)\n",
    "            for inputs, labels in progress_bar:\n",
    "                inputs, labels = inputs.to(device), labels.to(device)\n",
    "                optimizer.zero_grad(); outputs = model(inputs); loss = criterion(outputs, labels)\n",
    "                loss.backward(); optimizer.step()\n",
    "                progress_bar.set_postfix(loss=f\"{loss.item():.4f}\")\n",
    "            \n",
    "            torch.save({'fold': fold, 'epoch': epoch, 'model_state_dict': model.state_dict(),\n",
    "                        'optimizer_state_dict': optimizer.state_dict(), 'fold_ap_scores': fold_ap_scores}, checkpoint_path)\n",
    "        \n",
    "        model.eval(); all_preds, all_labels = [], []\n",
    "        with torch.no_grad():\n",
    "            for inputs, labels in tqdm(val_loader, desc=\"Validating\", leave=False):\n",
    "                inputs, labels = inputs.to(device), labels.to(device)\n",
    "                outputs = model(inputs)\n",
    "                all_preds.append(outputs.cpu().numpy().flatten())\n",
    "                all_labels.append(labels.cpu().numpy().flatten())\n",
    "        \n",
    "        ap_score = average_precision_score(np.concatenate(all_labels), np.concatenate(all_preds))\n",
    "        if len(fold_ap_scores) == fold: fold_ap_scores.append(ap_score)\n",
    "        print(f\"✅ Fold {fold + 1} Validation - AP: {ap_score:.4f}\")\n",
    "        last_model = model\n",
    "\n",
    "    print(\"\\n\\n📊 CROSS-VALIDATION SUMMARY\"); print(\"=\" * 60)\n",
    "    if fold_ap_scores: print(f\"  - Mean AP ± Std Dev: {np.mean(fold_ap_scores):.4f} ± {np.std(fold_ap_scores):.4f}\")\n",
    "    if last_model:\n",
    "        model_save_path = \"final_attention_unet.pth\"\n",
    "        torch.save(last_model.state_dict(), model_save_path)\n",
    "        print(f\"\\n💾 Final model from last fold saved to '{model_save_path}'\")\n",
    "        if os.path.exists(checkpoint_path):\n",
    "            os.remove(checkpoint_path)\n",
    "            print(f\"🗑️ Removed temporary checkpoint file: '{checkpoint_path}'\")\n",
    "            \n",
    "    return last_model, fold_ap_scores"
   ]
  },
  {
   "cell_type": "code",
   "execution_count": 6,
   "id": "4a50f4ed",
   "metadata": {
    "execution": {
     "iopub.execute_input": "2025-10-10T13:36:17.603374Z",
     "iopub.status.busy": "2025-10-10T13:36:17.603139Z",
     "iopub.status.idle": "2025-10-10T14:23:36.965188Z",
     "shell.execute_reply": "2025-10-10T14:23:36.964353Z",
     "shell.execute_reply.started": "2025-10-10T13:36:17.603348Z"
    },
    "trusted": true
   },
   "outputs": [
    {
     "name": "stdout",
     "output_type": "stream",
     "text": [
      "🔥 Initializing WildfireDataset: Building sequence index...\n",
      " M Randomly sampling 10000 sequences from the full dataset.\n",
      "✅ Index created. Dataset contains 10000 sequences.\n",
      "📊 Calculating normalization statistics on 2000 random samples...\n"
     ]
    },
    {
     "data": {
      "application/vnd.jupyter.widget-view+json": {
       "model_id": "37de67f53bb441038504921a39d56749",
       "version_major": 2,
       "version_minor": 0
      },
      "text/plain": [
       "Calculating Stats:   0%|          | 0/125 [00:00<?, ?it/s]"
      ]
     },
     "metadata": {},
     "output_type": "display_data"
    },
    {
     "name": "stdout",
     "output_type": "stream",
     "text": [
      "✅ Normalization stats calculated.\n",
      "🔥 Initializing WildfireDataset: Building sequence index...\n",
      " M Randomly sampling 10000 sequences from the full dataset.\n",
      "✅ Index created. Dataset contains 10000 sequences.\n",
      "\n",
      "--- Training COMBINED Attention U-Net Model ---\n",
      "🚀 INITIATING TRAINING ON cuda WITH 3-FOLD CV\n",
      "🎯 Main Metric: Average Precision (AP)\n",
      "============================================================\n",
      "🔄 Resuming training from fold 2\n",
      "\n",
      "========== FOLD 3/3 ==========\n",
      "🔄 Resuming fold 3 from epoch 11\n",
      "🔥 STARTING TRAINING...\n"
     ]
    },
    {
     "data": {
      "application/vnd.jupyter.widget-view+json": {
       "model_id": "",
       "version_major": 2,
       "version_minor": 0
      },
      "text/plain": [
       "Epoch 12/25:   0%|          | 0/1667 [00:00<?, ?it/s]"
      ]
     },
     "metadata": {},
     "output_type": "display_data"
    },
    {
     "data": {
      "application/vnd.jupyter.widget-view+json": {
       "model_id": "",
       "version_major": 2,
       "version_minor": 0
      },
      "text/plain": [
       "Epoch 13/25:   0%|          | 0/1667 [00:00<?, ?it/s]"
      ]
     },
     "metadata": {},
     "output_type": "display_data"
    },
    {
     "data": {
      "application/vnd.jupyter.widget-view+json": {
       "model_id": "",
       "version_major": 2,
       "version_minor": 0
      },
      "text/plain": [
       "Epoch 14/25:   0%|          | 0/1667 [00:00<?, ?it/s]"
      ]
     },
     "metadata": {},
     "output_type": "display_data"
    },
    {
     "data": {
      "application/vnd.jupyter.widget-view+json": {
       "model_id": "",
       "version_major": 2,
       "version_minor": 0
      },
      "text/plain": [
       "Epoch 15/25:   0%|          | 0/1667 [00:00<?, ?it/s]"
      ]
     },
     "metadata": {},
     "output_type": "display_data"
    },
    {
     "data": {
      "application/vnd.jupyter.widget-view+json": {
       "model_id": "",
       "version_major": 2,
       "version_minor": 0
      },
      "text/plain": [
       "Epoch 16/25:   0%|          | 0/1667 [00:00<?, ?it/s]"
      ]
     },
     "metadata": {},
     "output_type": "display_data"
    },
    {
     "data": {
      "application/vnd.jupyter.widget-view+json": {
       "model_id": "",
       "version_major": 2,
       "version_minor": 0
      },
      "text/plain": [
       "Epoch 17/25:   0%|          | 0/1667 [00:00<?, ?it/s]"
      ]
     },
     "metadata": {},
     "output_type": "display_data"
    },
    {
     "data": {
      "application/vnd.jupyter.widget-view+json": {
       "model_id": "",
       "version_major": 2,
       "version_minor": 0
      },
      "text/plain": [
       "Epoch 18/25:   0%|          | 0/1667 [00:00<?, ?it/s]"
      ]
     },
     "metadata": {},
     "output_type": "display_data"
    },
    {
     "data": {
      "application/vnd.jupyter.widget-view+json": {
       "model_id": "",
       "version_major": 2,
       "version_minor": 0
      },
      "text/plain": [
       "Epoch 19/25:   0%|          | 0/1667 [00:00<?, ?it/s]"
      ]
     },
     "metadata": {},
     "output_type": "display_data"
    },
    {
     "data": {
      "application/vnd.jupyter.widget-view+json": {
       "model_id": "",
       "version_major": 2,
       "version_minor": 0
      },
      "text/plain": [
       "Epoch 20/25:   0%|          | 0/1667 [00:00<?, ?it/s]"
      ]
     },
     "metadata": {},
     "output_type": "display_data"
    },
    {
     "data": {
      "application/vnd.jupyter.widget-view+json": {
       "model_id": "",
       "version_major": 2,
       "version_minor": 0
      },
      "text/plain": [
       "Epoch 21/25:   0%|          | 0/1667 [00:00<?, ?it/s]"
      ]
     },
     "metadata": {},
     "output_type": "display_data"
    },
    {
     "data": {
      "application/vnd.jupyter.widget-view+json": {
       "model_id": "",
       "version_major": 2,
       "version_minor": 0
      },
      "text/plain": [
       "Epoch 22/25:   0%|          | 0/1667 [00:00<?, ?it/s]"
      ]
     },
     "metadata": {},
     "output_type": "display_data"
    },
    {
     "data": {
      "application/vnd.jupyter.widget-view+json": {
       "model_id": "",
       "version_major": 2,
       "version_minor": 0
      },
      "text/plain": [
       "Epoch 23/25:   0%|          | 0/1667 [00:00<?, ?it/s]"
      ]
     },
     "metadata": {},
     "output_type": "display_data"
    },
    {
     "data": {
      "application/vnd.jupyter.widget-view+json": {
       "model_id": "",
       "version_major": 2,
       "version_minor": 0
      },
      "text/plain": [
       "Epoch 24/25:   0%|          | 0/1667 [00:00<?, ?it/s]"
      ]
     },
     "metadata": {},
     "output_type": "display_data"
    },
    {
     "data": {
      "application/vnd.jupyter.widget-view+json": {
       "model_id": "",
       "version_major": 2,
       "version_minor": 0
      },
      "text/plain": [
       "Epoch 25/25:   0%|          | 0/1667 [00:00<?, ?it/s]"
      ]
     },
     "metadata": {},
     "output_type": "display_data"
    },
    {
     "data": {
      "application/vnd.jupyter.widget-view+json": {
       "model_id": "",
       "version_major": 2,
       "version_minor": 0
      },
      "text/plain": [
       "Validating:   0%|          | 0/834 [00:00<?, ?it/s]"
      ]
     },
     "metadata": {},
     "output_type": "display_data"
    },
    {
     "name": "stdout",
     "output_type": "stream",
     "text": [
      "✅ Fold 3 Validation - AP: 0.1271\n",
      "\n",
      "\n",
      "📊 CROSS-VALIDATION SUMMARY\n",
      "============================================================\n",
      "  - Mean AP ± Std Dev: 0.1258 ± 0.0032\n",
      "\n",
      "💾 Final model from last fold saved to 'final_attention_unet.pth'\n",
      "🗑️ Removed temporary checkpoint file: 'attention_unet_checkpoint.pth'\n",
      "\n",
      "🎉 COMBINED Attention U-Net TRAINING COMPLETED!\n",
      "\n",
      "🎨 GENERATING VISUALIZATIONS for COMBINED Attention U-Net model...\n"
     ]
    },
    {
     "data": {
      "image/png": "[encoded data removed]",
      "text/plain": [
       "<Figure size 1500x2000 with 12 Axes>"
      ]
     },
     "metadata": {},
     "output_type": "display_data"
    },
    {
     "name": "stdout",
     "output_type": "stream",
     "text": [
      "\n",
      "📊 PREDICTION STATISTICS:\n",
      "🔥 True fire pixels in displayed samples: 139\n",
      "🎯 Predicted fire pixels (threshold > 0.5): 318\n",
      "📈 Average prediction confidence: 0.0273\n"
     ]
    }
   ],
   "source": [
    "# --- EXECUTION FOR THE COMBINED TIME-SERIES MODEL WITH ATTENTION U-NET ---\n",
    "\n",
    "# 1. Initialize the Dataset (without loading all data into RAM)\n",
    "# First, create a temporary dataset to calculate normalization stats\n",
    "temp_dataset = WildfireDataset(data_dir=DATA_DIR, num_timesteps=4, max_sequences=10000)\n",
    "normalization_stats = calculate_normalization_stats(temp_dataset, num_samples=2000)\n",
    "\n",
    "# Now, create the final dataset with the normalization stats included\n",
    "# The dataset will apply normalization to each item as it's loaded.\n",
    "full_dataset = WildfireDataset(\n",
    "    data_dir=DATA_DIR, \n",
    "    num_timesteps=4, \n",
    "    max_sequences=10000, \n",
    "    normalization_stats=normalization_stats\n",
    ")\n",
    "\n",
    "# 2. Train the Attention U-Net model using the new dataset-based function\n",
    "final_model_att_unet = None \n",
    "cv_results_att_unet = []\n",
    "checkpoint_file = \"attention_unet_checkpoint.pth\"\n",
    "\n",
    "if len(full_dataset) > 0:\n",
    "    print(\"\\n--- Training COMBINED Attention U-Net Model ---\")\n",
    "    \n",
    "    final_model_att_unet, cv_results_att_unet = train_fire_unet_cv_pytorch(\n",
    "        full_dataset,\n",
    "        n_splits=3,\n",
    "        epochs=25,\n",
    "        batch_size=4,\n",
    "        checkpoint_path=checkpoint_file\n",
    "    )\n",
    "    \n",
    "    if cv_results_att_unet:\n",
    "        print(\"\\n🎉 COMBINED Attention U-Net TRAINING COMPLETED!\")\n",
    "    else:\n",
    "        print(f\"❌ Combined Attention U-Net training failed!\")\n",
    "else:\n",
    "    print(f\"❌ Cannot train Combined Attention U-Net - no data loaded!\")\n",
    "    \n",
    "# 3. Visualization logic will need a slight adjustment to work with the dataset\n",
    "if final_model_att_unet is not None:\n",
    "    print(f\"\\n🎨 GENERATING VISUALIZATIONS for COMBINED Attention U-Net model...\")\n",
    "    \n",
    "    kfold = KFold(n_splits=3, shuffle=True, random_state=42)\n",
    "    _, val_indices = list(kfold.split(full_dataset))[-1]\n",
    "    \n",
    "    num_viz_samples = min(4, len(val_indices))\n",
    "    if num_viz_samples > 0:\n",
    "        # Get a few samples directly from the dataset for visualization\n",
    "        viz_inputs, viz_targets = [], []\n",
    "        for i in range(num_viz_samples):\n",
    "            # The dataset already returns normalized inputs and binary targets\n",
    "            x, y = full_dataset[val_indices[i]]\n",
    "            viz_inputs.append(np.transpose(x.numpy(), (1, 2, 0))) # Transpose back to H, W, C\n",
    "            viz_targets.append(np.transpose(y.numpy(), (1, 2, 0)))\n",
    "\n",
    "        X_test_norm = np.array(viz_inputs)\n",
    "        y_test_binary = np.array(viz_targets)\n",
    "\n",
    "        visualize_fire_predictions_pytorch(\n",
    "            final_model_att_unet, X_test_norm, y_test_binary, num_samples=num_viz_samples\n",
    "        )\n",
    "else:\n",
    "    print(f\"\\n⚠️ Combined Attention U-Net model not available for evaluation.\")"
   ]
  }
 ],
 "metadata": {
  "kaggle": {
   "accelerator": "gpu",
   "dataSources": [
    {
     "datasetId": 6194637,
     "sourceId": 10053423,
     "sourceType": "datasetVersion"
    }
   ],
   "isGpuEnabled": true,
   "isInternetEnabled": true,
   "language": "python",
   "sourceType": "notebook"
  },
  "kernelspec": {
   "display_name": "Python 3",
   "language": "python",
   "name": "python3"
  },
  "language_info": {
   "codemirror_mode": {
    "name": "ipython",
    "version": 3
   },
   "file_extension": ".py",
   "mimetype": "text/x-python",
   "name": "python",
   "nbconvert_exporter": "python",
   "pygments_lexer": "ipython3",
   "version": "3.11.13"
  }
 },
 "nbformat": 4,
 "nbformat_minor": 5
}
