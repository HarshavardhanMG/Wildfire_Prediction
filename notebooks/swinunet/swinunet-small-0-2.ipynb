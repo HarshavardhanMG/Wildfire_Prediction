{
 "cells": [
  {
   "cell_type": "code",
   "execution_count": 1,
   "id": "9b890305",
   "metadata": {
    "execution": {
     "iopub.execute_input": "2025-10-10T18:26:25.448993Z",
     "iopub.status.busy": "2025-10-10T18:26:25.448708Z",
     "iopub.status.idle": "2025-10-10T18:26:33.872237Z",
     "shell.execute_reply": "2025-10-10T18:26:33.871531Z",
     "shell.execute_reply.started": "2025-10-10T18:26:25.448968Z"
    },
    "trusted": true
   },
   "outputs": [
    {
     "name": "stderr",
     "output_type": "stream",
     "text": [
      "/usr/local/lib/python3.11/dist-packages/pydantic/_internal/_generate_schema.py:2225: UnsupportedFieldAttributeWarning: The 'repr' attribute with value False was provided to the `Field()` function, which has no effect in the context it was used. 'repr' is field-specific metadata, and can only be attached to a model field using `Annotated` metadata or by assignment. This may have happened because an `Annotated` type alias using the `type` statement was used, or if the `Field()` function was attached to a single member of a union type.\n",
      "  warnings.warn(\n",
      "/usr/local/lib/python3.11/dist-packages/pydantic/_internal/_generate_schema.py:2225: UnsupportedFieldAttributeWarning: The 'frozen' attribute with value True was provided to the `Field()` function, which has no effect in the context it was used. 'frozen' is field-specific metadata, and can only be attached to a model field using `Annotated` metadata or by assignment. This may have happened because an `Annotated` type alias using the `type` statement was used, or if the `Field()` function was attached to a single member of a union type.\n",
      "  warnings.warn(\n",
      "/usr/local/lib/python3.11/dist-packages/timm/models/layers/__init__.py:48: FutureWarning: Importing from timm.models.layers is deprecated, please import via timm.layers\n",
      "  warnings.warn(f\"Importing from {__name__} is deprecated, please import via timm.layers\", FutureWarning)\n",
      "2025-10-10 18:26:31.121319: E external/local_xla/xla/stream_executor/cuda/cuda_fft.cc:477] Unable to register cuFFT factory: Attempting to register factory for plugin cuFFT when one has already been registered\n",
      "WARNING: All log messages before absl::InitializeLog() is called are written to STDERR\n",
      "E0000 00:00:1760120791.144338   64760 cuda_dnn.cc:8310] Unable to register cuDNN factory: Attempting to register factory for plugin cuDNN when one has already been registered\n",
      "E0000 00:00:1760120791.151386   64760 cuda_blas.cc:1418] Unable to register cuBLAS factory: Attempting to register factory for plugin cuBLAS when one has already been registered\n"
     ]
    },
    {
     "name": "stdout",
     "output_type": "stream",
     "text": [
      "✅ TensorFlow successfully configured to use CPU only.\n",
      "   - ⚠️ WARNING: TensorFlow can still see the GPU. Conflicts may occur.\n",
      "✅ PyTorch can see and use the GPU.\n",
      "   - GPU Device Name: Tesla P100-PCIE-16GB\n",
      "📁 Data directory: /kaggle/input/ndws_western_dataset\n",
      "📂 Directory exists: True\n",
      "\n",
      "✅ Setup complete!\n"
     ]
    }
   ],
   "source": [
    "# SETUP AND IMPORTS\n",
    "import numpy as np\n",
    "import pandas as pd\n",
    "from pathlib import Path\n",
    "import matplotlib.pyplot as plt\n",
    "import seaborn as sns\n",
    "from IPython.display import display\n",
    "import warnings\n",
    "import sys\n",
    "import os\n",
    "\n",
    "# --- PyTorch and Sklearn Imports --\n",
    "import torch\n",
    "import torch.nn as nn\n",
    "import torch.nn.functional as F\n",
    "import torch.optim as optim\n",
    "from torch.utils.data import DataLoader, TensorDataset, Dataset, SubsetRandomSampler\n",
    "from sklearn.model_selection import KFold\n",
    "from sklearn.metrics import average_precision_score\n",
    "from tqdm.notebook import tqdm\n",
    "from einops import rearrange\n",
    "from timm.models.layers import DropPath, to_2tuple, trunc_normal_\n",
    "\n",
    "# --- TensorFlow for Data Loading ONLY --\n",
    "import tensorflow as tf\n",
    "\n",
    "# --- CRITICAL FIX v2: Isolate TensorFlow to CPU without hiding the GPU from PyTorch ---\n",
    "try:\n",
    "    physical_devices = tf.config.list_physical_devices()\n",
    "    cpus = [d for d in physical_devices if d.device_type == 'CPU']\n",
    "    tf.config.set_visible_devices(cpus)\n",
    "    print(\"✅ TensorFlow successfully configured to use CPU only.\")\n",
    "\n",
    "    # --- VERIFICATION STEP ---\n",
    "    if not tf.config.list_physical_devices('GPU'):\n",
    "        print(\"   - Confirmed: TensorFlow does not see the GPU.\")\n",
    "    else:\n",
    "        print(\"   - ⚠️ WARNING: TensorFlow can still see the GPU. Conflicts may occur.\")\n",
    "\n",
    "    if torch.cuda.is_available():\n",
    "        print(\"✅ PyTorch can see and use the GPU.\")\n",
    "        print(f\"   - GPU Device Name: {torch.cuda.get_device_name(0)}\")\n",
    "    else:\n",
    "        print(\"   - ❌ CRITICAL WARNING: PyTorch cannot see the GPU. Training will be on CPU.\")\n",
    "\n",
    "except Exception as e:\n",
    "    print(f\"An error occurred during device configuration: {e}\")\n",
    "\n",
    "\n",
    "warnings.filterwarnings('ignore')\n",
    "\n",
    "# Set random seeds for reproducibility\n",
    "np.random.seed(42)\n",
    "torch.manual_seed(42)\n",
    "if torch.cuda.is_available():\n",
    "    torch.cuda.manual_seed_all(42)\n",
    "\n",
    "# Define data directory\n",
    "DATA_DIR = Path(\"/kaggle/input/ndws_western_dataset\")\n",
    "print(f\"📁 Data directory: {DATA_DIR}\")\n",
    "print(f\"📂 Directory exists: {DATA_DIR.exists()}\")\n",
    "\n",
    "# --- CORRECTED TFRecord PARSING FUNCTION --\n",
    "def parse_tfrecord_flexible(example):\n",
    "    \"\"\"\n",
    "    Parse TFRecord with the CORRECT feature description.\n",
    "    \"\"\"\n",
    "    feature_description = {}\n",
    "\n",
    "    expected_features = [\n",
    "        'elevation', 'NDVI', 'erc', 'pr', 'pdsi', 'population',\n",
    "        'impervious', 'water', 'tmp_day', 'tmp_75', 'wind_avg', 'wind_75',\n",
    "        'wdir_wind', 'wdir_gust', 'gust_med', 'avg_sph', 'bi', 'chili',\n",
    "        'fuel1', 'fuel2', 'fuel3', 'viirs_PrevFireMask', 'viirs_FireMask'\n",
    "    ]\n",
    "\n",
    "    for feat in expected_features:\n",
    "        feature_description[feat] = tf.io.FixedLenFeature([64, 64], tf.float32)\n",
    "\n",
    "    parsed_features = tf.io.parse_single_example(example, feature_description)\n",
    "    return parsed_features\n",
    "\n",
    "print(\"\\n✅ Setup complete!\")"
   ]
  },
  {
   "cell_type": "code",
   "execution_count": 2,
   "id": "a3375bad",
   "metadata": {
    "execution": {
     "iopub.execute_input": "2025-10-10T18:26:33.874295Z",
     "iopub.status.busy": "2025-10-10T18:26:33.873799Z",
     "iopub.status.idle": "2025-10-10T18:26:33.887727Z",
     "shell.execute_reply": "2025-10-10T18:26:33.886942Z",
     "shell.execute_reply.started": "2025-10-10T18:26:33.874274Z"
    },
    "trusted": true
   },
   "outputs": [
    {
     "name": "stdout",
     "output_type": "stream",
     "text": [
      "✅ Visualization and results-saving functions are ready!\n"
     ]
    }
   ],
   "source": [
    "# --- UPDATED VISUALIZATION FUNCTION (WITH SAVE CAPABILITY) ---\n",
    "\n",
    "def visualize_fire_predictions_pytorch(model, X_test, y_test, num_samples=4, save_path=None):\n",
    "    \"\"\"\n",
    "    Visualize fire prediction results and optionally save the plot to a file.\n",
    "    \"\"\"\n",
    "    if len(X_test) == 0:\n",
    "        print(\"❌ No test samples available for visualization\")\n",
    "        return\n",
    "\n",
    "    device = torch.device(\"cuda\" if torch.cuda.is_available() else \"cpu\")\n",
    "    model.to(device)\n",
    "    model.eval()\n",
    "\n",
    "    X_test_subset = X_test[:num_samples]\n",
    "    y_test_subset = y_test[:num_samples]\n",
    "\n",
    "    with torch.no_grad():\n",
    "        X_test_tensor = torch.from_numpy(np.transpose(X_test_subset, (0, 3, 1, 2))).float().to(device)\n",
    "        predictions_tensor = model(X_test_tensor)\n",
    "        predictions = np.transpose(predictions_tensor.cpu().numpy(), (0, 2, 3, 1))\n",
    "\n",
    "    fig, axes = plt.subplots(num_samples, 3, figsize=(15, 5 * num_samples))\n",
    "    if num_samples == 1:\n",
    "        axes = axes.reshape(1, -1)\n",
    "\n",
    "    for i in range(num_samples):\n",
    "        input_fire = X_test_subset[i, :, :, 0]\n",
    "        true_fire = y_test_subset[i, :, :, 0]\n",
    "        pred_fire = predictions[i, :, :, 0]\n",
    "\n",
    "        axes[i, 0].imshow(input_fire, cmap='Reds', vmin=0, vmax=1)\n",
    "        axes[i, 0].set_title(f'Sample {i+1}: Input Fire (t)')\n",
    "        axes[i, 0].axis('off')\n",
    "\n",
    "        axes[i, 1].imshow(true_fire, cmap='Reds', vmin=0, vmax=1)\n",
    "        axes[i, 1].set_title(f'True Fire (t+1)')\n",
    "        axes[i, 1].axis('off')\n",
    "\n",
    "        axes[i, 2].imshow(pred_fire, cmap='Reds', vmin=0, vmax=1)\n",
    "        axes[i, 2].set_title(f'Predicted Fire (t+1)')\n",
    "        axes[i, 2].axis('off')\n",
    "\n",
    "    plt.tight_layout()\n",
    "\n",
    "    # <<< NEW: Save the figure if a path is provided >>>\n",
    "    if save_path:\n",
    "        try:\n",
    "            plt.savefig(save_path, bbox_inches='tight', dpi=150)\n",
    "            print(f\"✅ Visualization saved to '{save_path}'\")\n",
    "        except Exception as e:\n",
    "            print(f\"⚠️ Could not save visualization. Error: {e}\")\n",
    "\n",
    "    plt.show() # Display the plot after saving\n",
    "\n",
    "    # Return the prediction statistics so they can be saved to the results file\n",
    "    stats = {\n",
    "        \"true_fire_pixels\": np.sum(y_test_subset > 0.1),\n",
    "        \"predicted_fire_pixels\": np.sum(predictions > 0.5),\n",
    "        \"average_prediction_confidence\": np.mean(predictions)\n",
    "    }\n",
    "\n",
    "    # Print statistics to the notebook\n",
    "    print(f\"\\n📊 PREDICTION STATISTICS:\")\n",
    "    print(f\"🔥 True fire pixels in displayed samples: {stats['true_fire_pixels']}\")\n",
    "    print(f\"🎯 Predicted fire pixels (threshold > 0.5): {stats['predicted_fire_pixels']}\")\n",
    "    print(f\"📈 Average prediction confidence: {stats['average_prediction_confidence']:.4f}\")\n",
    "\n",
    "    return stats\n",
    "\n",
    "# --- NEW FUNCTION TO SAVE ALL RESULTS TO A TEXT FILE ---\n",
    "def save_results_to_file(model_name, cv_results, viz_stats, file_path=\"model_results.txt\"):\n",
    "    \"\"\"\n",
    "    Saves the cross-validation and visualization statistics for a model to a text file.\n",
    "    \"\"\"\n",
    "    mean_ap = np.mean(cv_results)\n",
    "    std_ap = np.std(cv_results)\n",
    "\n",
    "    try:\n",
    "        with open(file_path, 'a') as f: # 'a' for append mode\n",
    "            f.write(\"=\"*70 + \"\\n\")\n",
    "            f.write(f\"MODEL: {model_name}\\n\")\n",
    "            f.write(\"=\"*70 + \"\\n\\n\")\n",
    "\n",
    "            f.write(\"--- Cross-Validation Summary ---\\n\")\n",
    "            f.write(f\"Mean Average Precision (AP): {mean_ap:.4f} ± {std_ap:.4f}\\n\")\n",
    "            f.write(f\"Individual Fold AP Scores: {[f'{score:.4f}' for score in cv_results]}\\n\\n\")\n",
    "\n",
    "            if viz_stats:\n",
    "                f.write(\"--- Visualization Sample Statistics ---\\n\")\n",
    "                f.write(f\"True Fire Pixels: {viz_stats['true_fire_pixels']}\\n\")\n",
    "                f.write(f\"Predicted Fire Pixels (>0.5): {viz_stats['predicted_fire_pixels']}\\n\")\n",
    "                f.write(f\"Average Prediction Confidence: {viz_stats['average_prediction_confidence']:.4f}\\n\\n\\n\")\n",
    "\n",
    "        print(f\"✅ Results for '{model_name}' appended to '{file_path}'\")\n",
    "    except Exception as e:\n",
    "        print(f\"⚠️ Could not save results to file. Error: {e}\")\n",
    "\n",
    "print(\"✅ Visualization and results-saving functions are ready!\")"
   ]
  },
  {
   "cell_type": "markdown",
   "id": "502f51b8",
   "metadata": {},
   "source": [
    "# 🔥 SPATIAL FIRE SPREAD PREDICTION WITH Swin-Unet ARCHITECTURE\n",
    "\n",
    "**CRITICAL FIX**: This section implements proper spatial fire spread prediction using:\n",
    "- ✅ **Raw spatial features** (64x64 grids) - NOT statistical summaries\n",
    "- ✅ **All 106 input features** as spatial inputs\n",
    "- ✅ **Swin-Unet architecture** for pixel-level fire spread prediction\n",
    "- ✅ **Temporal prediction**: PrevFireMask(t) → FireMask(t+1)\n",
    "- ✅ **Research-based approach** following wildfire prediction literature\n",
    "\n",
    "**Key Point**: The data pipeline remains identical to the previous versions. The core change is the model architecture, which now uses Swin Transformer blocks for both the encoder and decoder."
   ]
  },
  {
   "cell_type": "code",
   "execution_count": 3,
   "id": "29663286",
   "metadata": {
    "execution": {
     "iopub.execute_input": "2025-10-10T18:26:33.889186Z",
     "iopub.status.busy": "2025-10-10T18:26:33.888640Z",
     "iopub.status.idle": "2025-10-10T18:26:33.907815Z",
     "shell.execute_reply": "2025-10-10T18:26:33.907146Z",
     "shell.execute_reply.started": "2025-10-10T18:26:33.889155Z"
    },
    "trusted": true
   },
   "outputs": [],
   "source": [
    "# --- FINAL DATA PROCESSOR: COMBINING TIME-SERIES AND CURRENT DAY DATA ---\n",
    "\n",
    "class CombinedFireDataProcessor:\n",
    "    \"\"\"\n",
    "    Processes data to give the model the best of both worlds:\n",
    "    - Historical environmental context (from the past)\n",
    "    - Current day fire and environmental state\n",
    "    \"\"\"\n",
    "    def __init__(self, data_dir=DATA_DIR, num_timesteps=4):\n",
    "        self.data_dir = data_dir\n",
    "        self.num_timesteps = num_timesteps # Past days of environmental data\n",
    "        self.environmental_features = [\n",
    "            'elevation', 'NDVI', 'erc', 'pr', 'pdsi', 'population',\n",
    "            'impervious', 'water', 'tmp_day', 'tmp_75', 'wind_avg', 'wind_75',\n",
    "            'wdir_wind', 'wdir_gust', 'gust_med', 'avg_sph', 'bi', 'chili',\n",
    "            'fuel1', 'fuel2', 'fuel3'\n",
    "        ]\n",
    "\n",
    "    def load_raw_spatial_data(self, max_sequences=None):\n",
    "        \"\"\"\n",
    "        Load and create the ultimate time-series sequences.\n",
    "        Input X: viirs_PrevFireMask(t) + Env Features(t-4 to t-1) + Env Features(t)\n",
    "        Target Y: viirs_FireMask(t+1)\n",
    "        \"\"\"\n",
    "        print(\"🔥 Loading RAW SPATIAL DATA for COMBINED (Time-Series + Current Day) prediction...\")\n",
    "        \n",
    "        tfrecord_files = list(self.data_dir.glob(\"*.tfrecord\"))\n",
    "        if not tfrecord_files:\n",
    "            print(\"❌ No TFRecord files found!\")\n",
    "            return None, None\n",
    "        print(f\"📁 Found {len(tfrecord_files)} TFRecord files\")\n",
    "\n",
    "        all_samples_flat = []\n",
    "        # Load all daily snapshots into one list\n",
    "        for file_path in tfrecord_files:\n",
    "            dataset = tf.data.TFRecordDataset(str(file_path))\n",
    "            for raw_record in dataset:\n",
    "                try:\n",
    "                    parsed_sample = parse_tfrecord_flexible(raw_record)\n",
    "                    sample_data = {name: tensor.numpy() for name, tensor in parsed_sample.items()}\n",
    "                    if 'viirs_PrevFireMask' in sample_data and 'viirs_FireMask' in sample_data:\n",
    "                        all_samples_flat.append(sample_data)\n",
    "                except Exception as e:\n",
    "                    print(f\"❗️ FAILED TO PROCESS A RECORD in {file_path.name}. Error: {e}\")\n",
    "                    break\n",
    "            else: continue\n",
    "            break\n",
    "        \n",
    "        print(f\"  ...Loaded {len(all_samples_flat)} total individual samples.\")\n",
    "\n",
    "        if not all_samples_flat:\n",
    "             print(\"❌ No valid samples were loaded.\")\n",
    "             return None, None\n",
    "\n",
    "        # --- COMBINED SLIDING WINDOW LOGIC ---\n",
    "        spatial_inputs, spatial_targets = [], []\n",
    "        # Total window size = num_timesteps (past env) + 1 (current day) + 1 (target day)\n",
    "        sequence_len = self.num_timesteps + 2\n",
    "        \n",
    "        for i in range(len(all_samples_flat) - sequence_len):\n",
    "            if max_sequences and len(spatial_inputs) >= max_sequences:\n",
    "                break\n",
    "\n",
    "            # Define the time windows\n",
    "            past_environmental_sequence = all_samples_flat[i : i + self.num_timesteps] # t-4 to t-1\n",
    "            current_day_sample = all_samples_flat[i + self.num_timesteps]              # day 't'\n",
    "            next_day_sample = all_samples_flat[i + self.num_timesteps + 1]           # day 't+1'\n",
    "\n",
    "            # --- Assemble the Input Tensor (X) ---\n",
    "            input_features = []\n",
    "            \n",
    "            # 1. Add the fire mask from the CURRENT day (t)\n",
    "            input_features.append(current_day_sample['viirs_PrevFireMask'].reshape(64, 64, 1))\n",
    "\n",
    "            # 2. Add environmental features from the PAST days (t-4 to t-1)\n",
    "            for past_sample in past_environmental_sequence:\n",
    "                for feature_name in self.environmental_features:\n",
    "                    if feature_name in past_sample:\n",
    "                        input_features.append(past_sample[feature_name].reshape(64, 64, 1))\n",
    "            \n",
    "            # 3. Add environmental features from the CURRENT day (t)\n",
    "            for feature_name in self.environmental_features:\n",
    "                 if feature_name in current_day_sample:\n",
    "                    input_features.append(current_day_sample[feature_name].reshape(64, 64, 1))\n",
    "\n",
    "            # --- Assemble the Target Tensor (y) ---\n",
    "            target_mask = next_day_sample['viirs_FireMask'].reshape(64, 64, 1)\n",
    "\n",
    "            if len(input_features) > 1:\n",
    "                spatial_inputs.append(np.concatenate(input_features, axis=2))\n",
    "                spatial_targets.append(target_mask)\n",
    "\n",
    "        if not spatial_inputs:\n",
    "            print(\"❌ Could not create any sequences with the combined logic!\")\n",
    "            return None, None\n",
    "            \n",
    "        X_spatial = np.array(spatial_inputs, dtype=np.float32)\n",
    "        y_spatial = np.array(spatial_targets, dtype=np.float32)\n",
    "\n",
    "        print(f\"\\n✅ COMBINED DATA LOADING COMPLETE\")\n",
    "        print(f\"📊 Spatial Input Shape: {X_spatial.shape}\")\n",
    "        print(f\"📊 Spatial Target Shape: {y_spatial.shape}\")\n",
    "        return X_spatial, y_spatial"
   ]
  },
  {
   "cell_type": "code",
   "execution_count": 4,
   "id": "0733c145-5ef0-484b-8daf-fadef031aca1",
   "metadata": {
    "execution": {
     "iopub.execute_input": "2025-10-10T18:26:33.908662Z",
     "iopub.status.busy": "2025-10-10T18:26:33.908485Z",
     "iopub.status.idle": "2025-10-10T18:26:33.926429Z",
     "shell.execute_reply": "2025-10-10T18:26:33.925673Z",
     "shell.execute_reply.started": "2025-10-10T18:26:33.908648Z"
    },
    "trusted": true
   },
   "outputs": [],
   "source": [
    "# --- DATASET CLASS AND NORMALIZATION (UNCHANGED FROM PREVIOUS NOTEBOOKS) ---\n",
    "import random\n",
    "from torch.utils.data import Dataset, SubsetRandomSampler\n",
    "\n",
    "class WildfireDataset(Dataset):\n",
    "    \"\"\"\n",
    "    PyTorch Dataset for loading wildfire sequences \"just-in-time\" from TFRecords.\n",
    "    This avoids loading the entire dataset into memory.\n",
    "    \"\"\"\n",
    "    def __init__(self, data_dir, num_timesteps=4, max_sequences=None, normalization_stats=None):\n",
    "        self.data_dir = data_dir\n",
    "        self.num_timesteps = num_timesteps\n",
    "        self.normalization_stats = normalization_stats\n",
    "        self.sequence_len = self.num_timesteps + 2 # Total daily records needed for one sequence\n",
    "\n",
    "        self.environmental_features = [\n",
    "            'elevation', 'NDVI', 'erc', 'pr', 'pdsi', 'population', 'impervious', 'water',\n",
    "            'tmp_day', 'tmp_75', 'wind_avg', 'wind_75', 'wdir_wind', 'wdir_gust', 'gust_med',\n",
    "            'avg_sph', 'bi', 'chili', 'fuel1', 'fuel2', 'fuel3'\n",
    "        ]\n",
    "\n",
    "        print(\"🔥 Initializing WildfireDataset: Building sequence index...\")\n",
    "        self.tfrecord_files = sorted(list(self.data_dir.glob(\"*.tfrecord\")))\n",
    "        self.index = self._build_index()\n",
    "\n",
    "        if max_sequences is not None and max_sequences < len(self.index):\n",
    "            print(f\" M Randomly sampling {max_sequences} sequences from the full dataset.\")\n",
    "            self.index = random.sample(self.index, max_sequences)\n",
    "\n",
    "        print(f\"✅ Index created. Dataset contains {len(self.index)} sequences.\")\n",
    "\n",
    "    def _build_index(self):\n",
    "        \"\"\" Scans TFRecords and creates a master list of all valid sequence start points. \"\"\"\n",
    "        index = []\n",
    "        for file_path in self.tfrecord_files:\n",
    "            # Get the total number of records in the file quickly\n",
    "            num_records = sum(1 for _ in tf.data.TFRecordDataset(str(file_path)))\n",
    "\n",
    "            # A sequence can start at 'i' if there are enough records after it\n",
    "            for i in range(num_records - self.sequence_len + 1):\n",
    "                index.append((str(file_path), i)) # Store (filepath, record_offset)\n",
    "        return index\n",
    "\n",
    "    def __len__(self):\n",
    "        return len(self.index)\n",
    "\n",
    "    def __getitem__(self, idx):\n",
    "        \"\"\" Loads and processes a single sequence from disk on demand. \"\"\"\n",
    "        file_path, record_offset = self.index[idx]\n",
    "\n",
    "        # Use tf.data to efficiently skip to the required records\n",
    "        dataset = tf.data.TFRecordDataset(file_path)\n",
    "        raw_records = dataset.skip(record_offset).take(self.sequence_len)\n",
    "\n",
    "        # Load the small set of daily samples needed for this one sequence\n",
    "        daily_samples = []\n",
    "        for raw_record in raw_records:\n",
    "            parsed_sample = parse_tfrecord_flexible(raw_record)\n",
    "            sample_data = {name: tensor.numpy() for name, tensor in parsed_sample.items()}\n",
    "            daily_samples.append(sample_data)\n",
    "\n",
    "        # --- Assemble the Input and Target Tensors (same logic as before) ---\n",
    "        past_environmental_sequence = daily_samples[0 : self.num_timesteps]\n",
    "        current_day_sample = daily_samples[self.num_timesteps]\n",
    "        next_day_sample = daily_samples[self.num_timesteps + 1]\n",
    "\n",
    "        input_features = []\n",
    "        input_features.append(current_day_sample['viirs_PrevFireMask'].reshape(64, 64, 1))\n",
    "        for past_sample in past_environmental_sequence:\n",
    "            for feature_name in self.environmental_features:\n",
    "                if feature_name in past_sample:\n",
    "                    input_features.append(past_sample[feature_name].reshape(64, 64, 1))\n",
    "        for feature_name in self.environmental_features:\n",
    "             if feature_name in current_day_sample:\n",
    "                input_features.append(current_day_sample[feature_name].reshape(64, 64, 1))\n",
    "        \n",
    "        # Concatenate and transpose for PyTorch (C, H, W)\n",
    "        x = np.concatenate(input_features, axis=2).astype(np.float32)\n",
    "        x = np.transpose(x, (2, 0, 1))\n",
    "\n",
    "        # Get target mask and transpose\n",
    "        y = next_day_sample['viirs_FireMask'].reshape(64, 64, 1).astype(np.float32)\n",
    "        y = (np.transpose(y, (2, 0, 1)) > 0.1).astype(np.float32)\n",
    "\n",
    "        x_tensor = torch.from_numpy(x)\n",
    "        y_tensor = torch.from_numpy(y)\n",
    "\n",
    "        # Apply normalization if stats are provided\n",
    "        if self.normalization_stats is not None:\n",
    "            means = self.normalization_stats['means']\n",
    "            stds = self.normalization_stats['stds']\n",
    "            x_tensor = (x_tensor - means) / stds\n",
    "\n",
    "        return x_tensor, y_tensor\n",
    "\n",
    "def calculate_normalization_stats(dataset, num_samples=500):\n",
    "    \"\"\" Calculates mean and std for normalization on a subset of the data. \"\"\"\n",
    "    print(f\"📊 Calculating normalization statistics on {num_samples} random samples...\")\n",
    "\n",
    "    num_samples = min(num_samples, len(dataset))\n",
    "    sampler = SubsetRandomSampler(random.sample(range(len(dataset)), num_samples))\n",
    "    loader = DataLoader(dataset, batch_size=32, sampler=sampler, num_workers=2)\n",
    "\n",
    "    channels_sum, channels_squared_sum, num_batches = 0, 0, 0\n",
    "    for inputs, _ in tqdm(loader, desc=\"Calculating Stats\"):\n",
    "        channels_sum += torch.mean(inputs, dim=[0, 2, 3])\n",
    "        channels_squared_sum += torch.mean(inputs**2, dim=[0, 2, 3])\n",
    "        num_batches += 1\n",
    "\n",
    "    mean = channels_sum / num_batches\n",
    "    std = (channels_squared_sum / num_batches - mean**2)**0.5\n",
    "    std[std == 0] = 1\n",
    "\n",
    "    stats = {'means': mean.reshape(-1, 1, 1), 'stds': std.reshape(-1, 1, 1)}\n",
    "    print(\"✅ Normalization stats calculated.\")\n",
    "    return stats"
   ]
  },
  {
   "cell_type": "code",
   "execution_count": 5,
   "id": "f664abad",
   "metadata": {
    "execution": {
     "iopub.execute_input": "2025-10-10T18:26:33.927710Z",
     "iopub.status.busy": "2025-10-10T18:26:33.927457Z",
     "iopub.status.idle": "2025-10-10T18:26:33.982986Z",
     "shell.execute_reply": "2025-10-10T18:26:33.982239Z",
     "shell.execute_reply.started": "2025-10-10T18:26:33.927687Z"
    },
    "trusted": true
   },
   "outputs": [],
   "source": [
    "# --- PYTORCH SWIN-UNET ARCHITECTURE (FINAL VERIFIED), LOSS, AND TRAINING FUNCTION ---\n",
    "\n",
    "# --- HELPER MODULES FOR SWIN TRANSFORMER ---\n",
    "from einops import rearrange\n",
    "from timm.models.layers import DropPath, to_2tuple, trunc_normal_\n",
    "import torch\n",
    "import torch.nn as nn\n",
    "import torch.nn.functional as F\n",
    "import torch.optim as optim\n",
    "from torch.utils.data import DataLoader, Dataset, SubsetRandomSampler\n",
    "from sklearn.model_selection import KFold\n",
    "from sklearn.metrics import average_precision_score\n",
    "from tqdm.notebook import tqdm\n",
    "import numpy as np\n",
    "import os\n",
    "\n",
    "class Mlp(nn.Module):\n",
    "    def __init__(self, in_features, hidden_features=None, out_features=None, act_layer=nn.GELU, drop=0.):\n",
    "        super().__init__()\n",
    "        out_features = out_features or in_features\n",
    "        hidden_features = hidden_features or in_features\n",
    "        self.fc1 = nn.Linear(in_features, hidden_features)\n",
    "        self.act = act_layer()\n",
    "        self.fc2 = nn.Linear(hidden_features, out_features)\n",
    "        self.drop = nn.Dropout(drop)\n",
    "\n",
    "    def forward(self, x):\n",
    "        x = self.fc1(x); x = self.act(x); x = self.drop(x)\n",
    "        x = self.fc2(x); x = self.drop(x)\n",
    "        return x\n",
    "\n",
    "def window_partition(x, window_size):\n",
    "    B, H, W, C = x.shape\n",
    "    x = x.view(B, H // window_size, window_size, W // window_size, window_size, C)\n",
    "    windows = x.permute(0, 1, 3, 2, 4, 5).contiguous().view(-1, window_size * window_size, C)\n",
    "    return windows\n",
    "\n",
    "def window_reverse(windows, window_size, H, W):\n",
    "    B = int(windows.shape[0] / (H * W / window_size / window_size))\n",
    "    x = windows.view(B, H // window_size, W // window_size, window_size, window_size, -1)\n",
    "    x = x.permute(0, 1, 3, 2, 4, 5).contiguous().view(B, H, W, -1)\n",
    "    return x\n",
    "\n",
    "class WindowAttention(nn.Module):\n",
    "    def __init__(self, dim, window_size, num_heads, qkv_bias=True, qk_scale=None, attn_drop=0., proj_drop=0.):\n",
    "        super().__init__()\n",
    "        self.dim = dim\n",
    "        self.window_size = window_size\n",
    "        self.num_heads = num_heads\n",
    "        head_dim = dim // num_heads\n",
    "        self.scale = qk_scale or head_dim ** -0.5\n",
    "        self.relative_position_bias_table = nn.Parameter(torch.zeros((2 * window_size[0] - 1) * (2 * window_size[1] - 1), num_heads))\n",
    "        coords_h = torch.arange(window_size[0]); coords_w = torch.arange(window_size[1])\n",
    "        coords = torch.stack(torch.meshgrid([coords_h, coords_w], indexing=\"ij\"))\n",
    "        coords_flatten = torch.flatten(coords, 1)\n",
    "        relative_coords = coords_flatten[:, :, None] - coords_flatten[:, None, :]\n",
    "        relative_coords = relative_coords.permute(1, 2, 0).contiguous()\n",
    "        relative_coords[:, :, 0] += window_size[0] - 1\n",
    "        relative_coords[:, :, 1] += window_size[1] - 1\n",
    "        relative_coords[:, :, 0] *= 2 * window_size[1] - 1\n",
    "        relative_position_index = relative_coords.sum(-1)\n",
    "        self.register_buffer(\"relative_position_index\", relative_position_index)\n",
    "        self.qkv = nn.Linear(dim, dim * 3, bias=qkv_bias)\n",
    "        self.attn_drop = nn.Dropout(attn_drop)\n",
    "        self.proj = nn.Linear(dim, dim)\n",
    "        self.proj_drop = nn.Dropout(proj_drop)\n",
    "        trunc_normal_(self.relative_position_bias_table, std=.02)\n",
    "        self.softmax = nn.Softmax(dim=-1)\n",
    "\n",
    "    def forward(self, x, mask=None):\n",
    "        B_, N, C = x.shape\n",
    "        qkv = self.qkv(x).reshape(B_, N, 3, self.num_heads, C // self.num_heads).permute(2, 0, 3, 1, 4)\n",
    "        q, k, v = qkv[0], qkv[1], qkv[2]\n",
    "        q = q * self.scale\n",
    "        attn = (q @ k.transpose(-2, -1))\n",
    "        relative_position_bias = self.relative_position_bias_table[self.relative_position_index.view(-1)].view(N, N, -1)\n",
    "        relative_position_bias = relative_position_bias.permute(2, 0, 1).contiguous()\n",
    "        attn = attn + relative_position_bias.unsqueeze(0)\n",
    "        if mask is not None:\n",
    "            nW = mask.shape[0]\n",
    "            attn = attn.view(B_ // nW, nW, self.num_heads, N, N) + mask.unsqueeze(1).unsqueeze(0)\n",
    "            attn = attn.view(-1, self.num_heads, N, N)\n",
    "            attn = self.softmax(attn)\n",
    "        else:\n",
    "            attn = self.softmax(attn)\n",
    "        attn = self.attn_drop(attn)\n",
    "        x = (attn @ v).transpose(1, 2).reshape(B_, N, C)\n",
    "        x = self.proj(x); x = self.proj_drop(x)\n",
    "        return x\n",
    "\n",
    "class SwinTransformerBlock(nn.Module):\n",
    "    def __init__(self, dim, input_resolution, num_heads, window_size=7, shift_size=0, mlp_ratio=4., qkv_bias=True, qk_scale=None, drop=0., attn_drop=0., drop_path=0., act_layer=nn.GELU, norm_layer=nn.LayerNorm):\n",
    "        super().__init__()\n",
    "        self.dim = dim\n",
    "        self.input_resolution = input_resolution\n",
    "        self.num_heads = num_heads\n",
    "        self.window_size = window_size\n",
    "        self.shift_size = shift_size\n",
    "        self.mlp_ratio = mlp_ratio\n",
    "        if min(self.input_resolution) <= self.window_size:\n",
    "            self.shift_size = 0\n",
    "            self.window_size = min(self.input_resolution)\n",
    "        assert 0 <= self.shift_size < self.window_size, \"shift_size must be in [0, window_size)\"\n",
    "        self.norm1 = norm_layer(dim)\n",
    "        self.attn = WindowAttention(dim, to_2tuple(self.window_size), num_heads, qkv_bias=qkv_bias, qk_scale=qk_scale, attn_drop=attn_drop, proj_drop=drop)\n",
    "        self.drop_path = DropPath(drop_path) if drop_path > 0. else nn.Identity()\n",
    "        self.norm2 = norm_layer(dim)\n",
    "        self.mlp = Mlp(in_features=dim, hidden_features=int(dim * mlp_ratio), act_layer=act_layer, drop=drop)\n",
    "        if self.shift_size > 0:\n",
    "            H, W = self.input_resolution\n",
    "            img_mask = torch.zeros((1, H, W, 1))\n",
    "            h_slices = (slice(0, -self.window_size), slice(-self.window_size, -self.shift_size), slice(-self.shift_size, None))\n",
    "            w_slices = (slice(0, -self.window_size), slice(-self.window_size, -self.shift_size), slice(-self.shift_size, None))\n",
    "            cnt = 0\n",
    "            for h in h_slices:\n",
    "                for w in w_slices:\n",
    "                    img_mask[:, h, w, :] = cnt\n",
    "                    cnt += 1\n",
    "            mask_windows = window_partition(img_mask, self.window_size)\n",
    "            mask_windows = mask_windows.view(-1, self.window_size * self.window_size)\n",
    "            attn_mask = mask_windows.unsqueeze(1) - mask_windows.unsqueeze(2)\n",
    "            attn_mask = attn_mask.masked_fill(attn_mask != 0, float(-100.0)).masked_fill(attn_mask == 0, float(0.0))\n",
    "        else:\n",
    "            attn_mask = None\n",
    "        self.register_buffer(\"attn_mask\", attn_mask)\n",
    "\n",
    "    def forward(self, x):\n",
    "        H, W = self.input_resolution\n",
    "        B, L, C = x.shape\n",
    "        assert L == H * W, \"input feature has wrong size\"\n",
    "        shortcut = x\n",
    "        x = self.norm1(x)\n",
    "        x = x.view(B, H, W, C)\n",
    "        if self.shift_size > 0: shifted_x = torch.roll(x, shifts=(-self.shift_size, -self.shift_size), dims=(1, 2))\n",
    "        else: shifted_x = x\n",
    "        x_windows = window_partition(shifted_x, self.window_size)\n",
    "        attn_windows = self.attn(x_windows, mask=self.attn_mask)\n",
    "        shifted_x = window_reverse(attn_windows, self.window_size, H, W)\n",
    "        if self.shift_size > 0: x = torch.roll(shifted_x, shifts=(self.shift_size, self.shift_size), dims=(1, 2))\n",
    "        else: x = shifted_x\n",
    "        x = x.view(B, H * W, C)\n",
    "        x = shortcut + self.drop_path(x)\n",
    "        x = x + self.drop_path(self.mlp(self.norm2(x)))\n",
    "        return x\n",
    "\n",
    "class BasicLayer(nn.Module):\n",
    "    def __init__(self, dim, input_resolution, depth, num_heads, window_size, mlp_ratio=4., qkv_bias=True, qk_scale=None, drop=0., attn_drop=0., drop_path=0., norm_layer=nn.LayerNorm, downsample=None):\n",
    "        super().__init__()\n",
    "        self.blocks = nn.ModuleList([SwinTransformerBlock(dim=dim, input_resolution=input_resolution, num_heads=num_heads, window_size=window_size, shift_size=0 if (i % 2 == 0) else window_size // 2, mlp_ratio=mlp_ratio, qkv_bias=qkv_bias, qk_scale=qk_scale, drop=drop, attn_drop=attn_drop, drop_path=drop_path[i] if isinstance(drop_path, list) else drop_path, norm_layer=norm_layer) for i in range(depth)])\n",
    "        self.downsample = downsample(input_resolution, dim=dim, norm_layer=norm_layer) if downsample is not None else nn.Identity()\n",
    "\n",
    "    def forward(self, x):\n",
    "        for blk in self.blocks: x = blk(x)\n",
    "        x = self.downsample(x)\n",
    "        return x\n",
    "\n",
    "class PatchEmbed(nn.Module):\n",
    "    def __init__(self, img_size=64, patch_size=4, in_chans=3, embed_dim=96, norm_layer=nn.LayerNorm):\n",
    "        super().__init__()\n",
    "        self.img_size = to_2tuple(img_size)\n",
    "        self.patch_size = to_2tuple(patch_size)\n",
    "        self.patches_resolution = [self.img_size[0] // self.patch_size[0], self.img_size[1] // self.patch_size[1]]\n",
    "        self.proj = nn.Conv2d(in_chans, embed_dim, kernel_size=patch_size, stride=patch_size)\n",
    "        self.norm = norm_layer(embed_dim) if norm_layer is not None else nn.Identity()\n",
    "\n",
    "    def forward(self, x):\n",
    "        return self.norm(self.proj(x).flatten(2).transpose(1, 2))\n",
    "\n",
    "class PatchMerging(nn.Module):\n",
    "    def __init__(self, input_resolution, dim, norm_layer=nn.LayerNorm):\n",
    "        super().__init__()\n",
    "        self.input_resolution = input_resolution\n",
    "        self.dim = dim\n",
    "        self.reduction = nn.Linear(4 * dim, 2 * dim, bias=False)\n",
    "        self.norm = norm_layer(4 * dim)\n",
    "\n",
    "    def forward(self, x):\n",
    "        H, W = self.input_resolution\n",
    "        B, L, C = x.shape\n",
    "        assert L == H * W, \"input feature has wrong size\"\n",
    "        x = x.view(B, H, W, C)\n",
    "        x = torch.cat([x[:, 0::2, 0::2, :], x[:, 1::2, 0::2, :], x[:, 0::2, 1::2, :], x[:, 1::2, 1::2, :]], -1)\n",
    "        x = self.norm(x.view(B, -1, 4 * C))\n",
    "        x = self.reduction(x)\n",
    "        return x\n",
    "\n",
    "class PatchExpand(nn.Module):\n",
    "    def __init__(self, input_resolution, dim, norm_layer=nn.LayerNorm):\n",
    "        super().__init__()\n",
    "        self.input_resolution = input_resolution\n",
    "        self.dim = dim\n",
    "        self.expand = nn.Linear(dim, 2 * dim, bias=False)\n",
    "        self.norm = norm_layer(dim // 2)\n",
    "\n",
    "    def forward(self, x):\n",
    "        H, W = self.input_resolution\n",
    "        x = self.expand(x)\n",
    "        B, L, C = x.shape\n",
    "        assert L == H * W, \"Input feature has wrong size\"\n",
    "        x = x.view(B, H, W, C)\n",
    "        x = rearrange(x, 'b h w (p1 p2 c_out) -> b (h p1) (w p2) c_out', p1=2, p2=2, c_out=C // 4)\n",
    "        x = x.view(B, -1, C // 4)\n",
    "        x = self.norm(x)\n",
    "        return x\n",
    "\n",
    "class SwinUnet(nn.Module):\n",
    "    def __init__(self, img_size=64, patch_size=4, in_chans=106, num_classes=1,\n",
    "                 embed_dim=96, depths=[2, 2, 2], num_heads=[3, 6, 12],\n",
    "                 window_size=4, mlp_ratio=4., qkv_bias=True,\n",
    "                 drop_rate=0., attn_drop_rate=0., drop_path_rate=0.1,\n",
    "                 norm_layer=nn.LayerNorm, **kwargs):\n",
    "        super().__init__()\n",
    "        \n",
    "        self.patch_embed = PatchEmbed(img_size=img_size, patch_size=patch_size, in_chans=in_chans, embed_dim=embed_dim)\n",
    "        patches_resolution = self.patch_embed.patches_resolution\n",
    "        \n",
    "        self.pos_drop = nn.Dropout(p=drop_rate)\n",
    "        \n",
    "        dpr = [x.item() for x in torch.linspace(0, drop_path_rate, sum(depths))]\n",
    "        \n",
    "        # --- Encoder ---\n",
    "        self.encoder_layers = nn.ModuleList()\n",
    "        num_layers = len(depths)\n",
    "        for i_layer in range(num_layers):\n",
    "            layer = BasicLayer(\n",
    "                dim=int(embed_dim * 2**i_layer),\n",
    "                input_resolution=(patches_resolution[0] // (2**i_layer), patches_resolution[1] // (2**i_layer)),\n",
    "                depth=depths[i_layer],\n",
    "                num_heads=num_heads[i_layer],\n",
    "                window_size=window_size,\n",
    "                mlp_ratio=mlp_ratio,\n",
    "                qkv_bias=qkv_bias,\n",
    "                drop=drop_rate,\n",
    "                attn_drop=attn_drop_rate,\n",
    "                drop_path=dpr[sum(depths[:i_layer]):sum(depths[:i_layer + 1])],\n",
    "                norm_layer=norm_layer,\n",
    "                downsample=PatchMerging if (i_layer < num_layers - 1) else None\n",
    "            )\n",
    "            self.encoder_layers.append(layer)\n",
    "\n",
    "        # --- Bottleneck ---\n",
    "        self.bottleneck = BasicLayer(\n",
    "            dim=int(embed_dim * 2**(num_layers-1)),\n",
    "            input_resolution=(patches_resolution[0] // (2**(num_layers-1)), patches_resolution[1] // (2**(num_layers-1))),\n",
    "            depth=depths[-1],\n",
    "            num_heads=num_heads[-1],\n",
    "            window_size=window_size,\n",
    "            mlp_ratio=mlp_ratio,\n",
    "            qkv_bias=qkv_bias,\n",
    "            drop=drop_rate,\n",
    "            attn_drop=attn_drop_rate,\n",
    "            drop_path=dpr[sum(depths[:-1]):],\n",
    "            norm_layer=norm_layer,\n",
    "            downsample=None\n",
    "        )\n",
    "\n",
    "        # --- START OF FIX: Corrected Decoder Initialization and Skip Logic ---\n",
    "        self.decoder_layers = nn.ModuleList()\n",
    "        # The number of upsampling stages must equal the number of downsampling stages (num_layers - 1)\n",
    "        for i_layer in reversed(range(num_layers - 1)):\n",
    "            # Determine the dimensions for the current decoder stage\n",
    "            in_dim = int(embed_dim * 2**(i_layer + 1))\n",
    "            skip_dim = int(embed_dim * 2**i_layer)\n",
    "            out_dim = skip_dim\n",
    "            concat_dim = skip_dim + (in_dim // 2)\n",
    "\n",
    "            # The input resolution for PatchExpand is the output resolution of the deeper layer\n",
    "            expand_input_res = (patches_resolution[0] // (2**(i_layer + 1)), patches_resolution[1] // (2**(i_layer + 1)))\n",
    "\n",
    "            upsample_layer = PatchExpand(\n",
    "                input_resolution=expand_input_res,\n",
    "                dim=in_dim\n",
    "            )\n",
    "            \n",
    "            concat_linear = nn.Linear(concat_dim, out_dim, bias=False)\n",
    "            \n",
    "            # The input resolution for the Swin blocks is the resolution after upsampling\n",
    "            stage_input_res = (expand_input_res[0] * 2, expand_input_res[1] * 2)\n",
    "\n",
    "            decoder_stage = BasicLayer(\n",
    "                dim=out_dim,\n",
    "                input_resolution=stage_input_res,\n",
    "                depth=depths[i_layer],\n",
    "                num_heads=num_heads[i_layer],\n",
    "                window_size=window_size,\n",
    "                downsample=None\n",
    "            )\n",
    "            self.decoder_layers.append(nn.ModuleList([upsample_layer, concat_linear, decoder_stage]))\n",
    "        # --- END OF FIX ---\n",
    "\n",
    "        # --- Final Output Head ---\n",
    "        self.final_norm = norm_layer(embed_dim)\n",
    "        self.final_conv = nn.Conv2d(embed_dim, num_classes, kernel_size=1)\n",
    "\n",
    "        self.apply(self._init_weights)\n",
    "\n",
    "    def _init_weights(self, m):\n",
    "        if isinstance(m, nn.Linear):\n",
    "            trunc_normal_(m.weight, std=.02)\n",
    "            if isinstance(m, nn.Linear) and m.bias is not None: nn.init.constant_(m.bias, 0)\n",
    "        elif isinstance(m, nn.LayerNorm):\n",
    "            nn.init.constant_(m.bias, 0)\n",
    "            nn.init.constant_(m.weight, 1.0)\n",
    "\n",
    "    def forward(self, x):\n",
    "        x = self.patch_embed(x)\n",
    "        x = self.pos_drop(x)\n",
    "        \n",
    "        encoder_skips = []\n",
    "        for layer in self.encoder_layers:\n",
    "            encoder_skips.append(x)\n",
    "            x = layer(x)\n",
    "\n",
    "        x = self.bottleneck(x)\n",
    "\n",
    "        # --- START OF FIX: Corrected Skip Connection Logic ---\n",
    "        # The decoder stages are indexed in reverse order of the encoder stages they connect to\n",
    "        for i, (upsample, concat, decoder_stage) in enumerate(self.decoder_layers):\n",
    "            x = upsample(x)\n",
    "            # Connect to the corresponding encoder skip connection\n",
    "            # The deepest skip is from the second-to-last encoder stage\n",
    "            skip = encoder_skips[len(self.encoder_layers) - 2 - i]\n",
    "            x = torch.cat([x, skip], -1)\n",
    "            x = concat(x)\n",
    "            x = decoder_stage(x)\n",
    "        # --- END OF FIX ---\n",
    "            \n",
    "        x = self.final_norm(x)\n",
    "        B, L, C = x.shape\n",
    "        H, W = self.patch_embed.patches_resolution\n",
    "        x = x.transpose(-1, -2).contiguous().view(B, C, H, W)\n",
    "        \n",
    "        x = F.interpolate(x, size=self.patch_embed.img_size, mode='bilinear', align_corners=False)\n",
    "        x = self.final_conv(x)\n",
    "        return torch.sigmoid(x)\n",
    "\n",
    "# --- LOSS FUNCTION (UNCHANGED) ---\n",
    "class BCEDiceLoss(nn.Module):\n",
    "    def __init__(self, weight=0.5):\n",
    "        super(BCEDiceLoss, self).__init__()\n",
    "        self.weight = weight\n",
    "    def forward(self, inputs, targets, smooth=1e-6):\n",
    "        inputs_flat = inputs.view(-1); targets_flat = targets.view(-1)\n",
    "        bce_loss = nn.BCELoss()(inputs_flat, targets_flat)\n",
    "        intersection = (inputs_flat * targets_flat).sum()\n",
    "        dice_score = (2. * intersection + smooth) / (inputs_flat.sum() + targets_flat.sum() + smooth)\n",
    "        dice_loss = 1 - dice_score\n",
    "        return self.weight * bce_loss + (1 - self.weight) * dice_loss\n",
    "\n",
    "# --- GENERIC TRAINING FUNCTION (UNCHANGED) ---\n",
    "def train_fire_model_cv_pytorch(dataset, model_class, model_args, n_splits=5, epochs=20, batch_size=4, checkpoint_path=\"model_checkpoint.pth\"):\n",
    "    device = torch.device(\"cuda\" if torch.cuda.is_available() else \"cpu\")\n",
    "    use_gpu = torch.cuda.is_available()\n",
    "    print(f\"🚀 INITIATING TRAINING ON {device} WITH {n_splits}-FOLD CV\")\n",
    "    print(f\"🎯 Main Metric: Average Precision (AP)\")\n",
    "    print(\"=\" * 60)\n",
    "\n",
    "    kfold = KFold(n_splits=n_splits, shuffle=True, random_state=42)\n",
    "    fold_ap_scores = []\n",
    "    last_model = None\n",
    "    start_fold = 0\n",
    "    checkpoint = None\n",
    "\n",
    "    if os.path.exists(checkpoint_path):\n",
    "        try:\n",
    "            checkpoint = torch.load(checkpoint_path, map_location=torch.device('cpu'))\n",
    "            start_fold = checkpoint.get('fold', 0)\n",
    "            if checkpoint.get('epoch', -1) == epochs - 1: start_fold += 1\n",
    "            fold_ap_scores = checkpoint.get('fold_ap_scores', [])\n",
    "            if start_fold > 0 and start_fold < n_splits:\n",
    "                print(f\"🔄 Resuming training from fold {start_fold + 1}\")\n",
    "        except Exception as e:\n",
    "            print(f\"⚠️ Could not load checkpoint: {e}. Starting from scratch.\")\n",
    "            checkpoint = None\n",
    "\n",
    "    for fold, (train_idx, val_idx) in enumerate(kfold.split(dataset)):\n",
    "        if fold < start_fold: continue\n",
    "\n",
    "        print(f\"\\n========== FOLD {fold + 1}/{n_splits} ==========\")\n",
    "        train_sampler = SubsetRandomSampler(train_idx)\n",
    "        val_sampler = SubsetRandomSampler(val_idx)\n",
    "\n",
    "        train_loader = DataLoader(dataset, batch_size=batch_size, sampler=train_sampler, num_workers=2, pin_memory=use_gpu)\n",
    "        val_loader = DataLoader(dataset, batch_size=batch_size, sampler=val_sampler, num_workers=2, pin_memory=use_gpu)\n",
    "\n",
    "        model = model_class(**model_args).to(device)\n",
    "        criterion = BCEDiceLoss(weight=0.2)\n",
    "        optimizer = optim.Adam(model.parameters(), lr=1e-4)\n",
    "\n",
    "        start_epoch = 0\n",
    "        if checkpoint is not None and fold == checkpoint.get('fold', -1):\n",
    "            try:\n",
    "                model.load_state_dict(checkpoint['model_state_dict'])\n",
    "                optimizer.load_state_dict(checkpoint['optimizer_state_dict'])\n",
    "                start_epoch = checkpoint.get('epoch', 0) + 1\n",
    "                if start_epoch < epochs:\n",
    "                    print(f\"🔄 Resuming fold {fold+1} from epoch {start_epoch + 1}\")\n",
    "            except Exception as e:\n",
    "                print(f\"⚠️ Could not load state dicts from checkpoint: {e}. Starting fold from scratch.\")\n",
    "                start_epoch = 0\n",
    "\n",
    "        print(f\"🔥 STARTING TRAINING...\")\n",
    "        for epoch in range(start_epoch, epochs):\n",
    "            model.train()\n",
    "            progress_bar = tqdm(train_loader, desc=f\"Epoch {epoch + 1}/{epochs}\", leave=False)\n",
    "            for inputs, labels in progress_bar:\n",
    "                inputs, labels = inputs.to(device), labels.to(device)\n",
    "                optimizer.zero_grad(); outputs = model(inputs); loss = criterion(outputs, labels)\n",
    "                loss.backward(); optimizer.step()\n",
    "                progress_bar.set_postfix(loss=f\"{loss.item():.4f}\")\n",
    "\n",
    "            torch.save({'fold': fold, 'epoch': epoch, 'model_state_dict': model.state_dict(), 'optimizer_state_dict': optimizer.state_dict(), 'fold_ap_scores': fold_ap_scores}, checkpoint_path)\n",
    "\n",
    "        model.eval(); all_preds, all_labels = [], []\n",
    "        with torch.no_grad():\n",
    "            for inputs, labels in tqdm(val_loader, desc=\"Validating\", leave=False):\n",
    "                inputs, labels = inputs.to(device), labels.to(device)\n",
    "                outputs = model(inputs)\n",
    "                all_preds.append(outputs.cpu().numpy().flatten())\n",
    "                all_labels.append(labels.cpu().numpy().flatten())\n",
    "        \n",
    "        if len(np.concatenate(all_labels)) > 0 and len(np.unique(np.concatenate(all_labels))) > 1:\n",
    "            ap_score = average_precision_score(np.concatenate(all_labels), np.concatenate(all_preds))\n",
    "            if len(fold_ap_scores) <= fold: fold_ap_scores.append(ap_score)\n",
    "            else: fold_ap_scores[fold] = ap_score\n",
    "            print(f\"✅ Fold {fold + 1} Validation - AP: {ap_score:.4f}\")\n",
    "        else:\n",
    "            print(f\"⚠️ Fold {fold + 1} Validation - Could not compute AP. Not enough class diversity in labels.\")\n",
    "\n",
    "        last_model = model\n",
    "        checkpoint = None \n",
    "\n",
    "    print(\"\\n\\n📊 CROSS-VALIDATION SUMMARY\"); print(\"=\" * 60)\n",
    "    if fold_ap_scores: print(f\"  - Mean AP ± Std Dev: {np.mean(fold_ap_scores):.4f} ± {np.std(fold_ap_scores):.4f}\")\n",
    "    if last_model:\n",
    "        model_save_path = f\"final_{model.__class__.__name__.lower()}.pth\"\n",
    "        torch.save(last_model.state_dict(), model_save_path)\n",
    "        print(f\"\\n💾 Final model from last fold saved to '{model_save_path}'\")\n",
    "        if os.path.exists(checkpoint_path):\n",
    "            os.remove(checkpoint_path)\n",
    "            print(f\"🗑️ Removed temporary checkpoint file: '{checkpoint_path}'\")\n",
    "\n",
    "    return last_model, fold_ap_scores"
   ]
  },
  {
   "cell_type": "code",
   "execution_count": 6,
   "id": "4a50f4ed",
   "metadata": {
    "execution": {
     "iopub.execute_input": "2025-10-10T18:26:33.983801Z",
     "iopub.status.busy": "2025-10-10T18:26:33.983625Z",
     "iopub.status.idle": "2025-10-10T18:30:10.544445Z",
     "shell.execute_reply": "2025-10-10T18:30:10.543719Z",
     "shell.execute_reply.started": "2025-10-10T18:26:33.983786Z"
    },
    "trusted": true
   },
   "outputs": [
    {
     "name": "stdout",
     "output_type": "stream",
     "text": [
      "🔥 Initializing WildfireDataset: Building sequence index...\n",
      " M Randomly sampling 1 sequences from the full dataset.\n",
      "✅ Index created. Dataset contains 1 sequences.\n",
      "✅ Model configured: SwinUnet with 106 input channels.\n",
      "\n",
      "--- Step 1: Preparing Dataset ---\n",
      "🔥 Initializing WildfireDataset: Building sequence index...\n",
      " M Randomly sampling 100 sequences from the full dataset.\n",
      "✅ Index created. Dataset contains 100 sequences.\n",
      "📊 Calculating normalization statistics on 100 random samples...\n"
     ]
    },
    {
     "data": {
      "application/vnd.jupyter.widget-view+json": {
       "model_id": "919e649925de47309850b5ac18b4778e",
       "version_major": 2,
       "version_minor": 0
      },
      "text/plain": [
       "Calculating Stats:   0%|          | 0/4 [00:00<?, ?it/s]"
      ]
     },
     "metadata": {},
     "output_type": "display_data"
    },
    {
     "name": "stdout",
     "output_type": "stream",
     "text": [
      "✅ Normalization stats calculated.\n",
      "🔥 Initializing WildfireDataset: Building sequence index...\n",
      " M Randomly sampling 100 sequences from the full dataset.\n",
      "✅ Index created. Dataset contains 100 sequences.\n",
      "\n",
      "--- Step 2: Training SwinUnet ---\n",
      "🚀 INITIATING TRAINING ON cuda WITH 3-FOLD CV\n",
      "🎯 Main Metric: Average Precision (AP)\n",
      "============================================================\n",
      "\n",
      "========== FOLD 1/3 ==========\n",
      "🔥 STARTING TRAINING...\n"
     ]
    },
    {
     "data": {
      "application/vnd.jupyter.widget-view+json": {
       "model_id": "",
       "version_major": 2,
       "version_minor": 0
      },
      "text/plain": [
       "Epoch 1/25:   0%|          | 0/17 [00:00<?, ?it/s]"
      ]
     },
     "metadata": {},
     "output_type": "display_data"
    },
    {
     "data": {
      "application/vnd.jupyter.widget-view+json": {
       "model_id": "",
       "version_major": 2,
       "version_minor": 0
      },
      "text/plain": [
       "Epoch 2/25:   0%|          | 0/17 [00:00<?, ?it/s]"
      ]
     },
     "metadata": {},
     "output_type": "display_data"
    },
    {
     "data": {
      "application/vnd.jupyter.widget-view+json": {
       "model_id": "",
       "version_major": 2,
       "version_minor": 0
      },
      "text/plain": [
       "Epoch 3/25:   0%|          | 0/17 [00:00<?, ?it/s]"
      ]
     },
     "metadata": {},
     "output_type": "display_data"
    },
    {
     "data": {
      "application/vnd.jupyter.widget-view+json": {
       "model_id": "",
       "version_major": 2,
       "version_minor": 0
      },
      "text/plain": [
       "Epoch 4/25:   0%|          | 0/17 [00:00<?, ?it/s]"
      ]
     },
     "metadata": {},
     "output_type": "display_data"
    },
    {
     "data": {
      "application/vnd.jupyter.widget-view+json": {
       "model_id": "",
       "version_major": 2,
       "version_minor": 0
      },
      "text/plain": [
       "Epoch 5/25:   0%|          | 0/17 [00:00<?, ?it/s]"
      ]
     },
     "metadata": {},
     "output_type": "display_data"
    },
    {
     "data": {
      "application/vnd.jupyter.widget-view+json": {
       "model_id": "",
       "version_major": 2,
       "version_minor": 0
      },
      "text/plain": [
       "Epoch 6/25:   0%|          | 0/17 [00:00<?, ?it/s]"
      ]
     },
     "metadata": {},
     "output_type": "display_data"
    },
    {
     "data": {
      "application/vnd.jupyter.widget-view+json": {
       "model_id": "",
       "version_major": 2,
       "version_minor": 0
      },
      "text/plain": [
       "Epoch 7/25:   0%|          | 0/17 [00:00<?, ?it/s]"
      ]
     },
     "metadata": {},
     "output_type": "display_data"
    },
    {
     "data": {
      "application/vnd.jupyter.widget-view+json": {
       "model_id": "",
       "version_major": 2,
       "version_minor": 0
      },
      "text/plain": [
       "Epoch 8/25:   0%|          | 0/17 [00:00<?, ?it/s]"
      ]
     },
     "metadata": {},
     "output_type": "display_data"
    },
    {
     "data": {
      "application/vnd.jupyter.widget-view+json": {
       "model_id": "",
       "version_major": 2,
       "version_minor": 0
      },
      "text/plain": [
       "Epoch 9/25:   0%|          | 0/17 [00:00<?, ?it/s]"
      ]
     },
     "metadata": {},
     "output_type": "display_data"
    },
    {
     "data": {
      "application/vnd.jupyter.widget-view+json": {
       "model_id": "",
       "version_major": 2,
       "version_minor": 0
      },
      "text/plain": [
       "Epoch 10/25:   0%|          | 0/17 [00:00<?, ?it/s]"
      ]
     },
     "metadata": {},
     "output_type": "display_data"
    },
    {
     "data": {
      "application/vnd.jupyter.widget-view+json": {
       "model_id": "",
       "version_major": 2,
       "version_minor": 0
      },
      "text/plain": [
       "Epoch 11/25:   0%|          | 0/17 [00:00<?, ?it/s]"
      ]
     },
     "metadata": {},
     "output_type": "display_data"
    },
    {
     "data": {
      "application/vnd.jupyter.widget-view+json": {
       "model_id": "",
       "version_major": 2,
       "version_minor": 0
      },
      "text/plain": [
       "Epoch 12/25:   0%|          | 0/17 [00:00<?, ?it/s]"
      ]
     },
     "metadata": {},
     "output_type": "display_data"
    },
    {
     "data": {
      "application/vnd.jupyter.widget-view+json": {
       "model_id": "",
       "version_major": 2,
       "version_minor": 0
      },
      "text/plain": [
       "Epoch 13/25:   0%|          | 0/17 [00:00<?, ?it/s]"
      ]
     },
     "metadata": {},
     "output_type": "display_data"
    },
    {
     "data": {
      "application/vnd.jupyter.widget-view+json": {
       "model_id": "",
       "version_major": 2,
       "version_minor": 0
      },
      "text/plain": [
       "Epoch 14/25:   0%|          | 0/17 [00:00<?, ?it/s]"
      ]
     },
     "metadata": {},
     "output_type": "display_data"
    },
    {
     "data": {
      "application/vnd.jupyter.widget-view+json": {
       "model_id": "",
       "version_major": 2,
       "version_minor": 0
      },
      "text/plain": [
       "Epoch 15/25:   0%|          | 0/17 [00:00<?, ?it/s]"
      ]
     },
     "metadata": {},
     "output_type": "display_data"
    },
    {
     "data": {
      "application/vnd.jupyter.widget-view+json": {
       "model_id": "",
       "version_major": 2,
       "version_minor": 0
      },
      "text/plain": [
       "Epoch 16/25:   0%|          | 0/17 [00:00<?, ?it/s]"
      ]
     },
     "metadata": {},
     "output_type": "display_data"
    },
    {
     "data": {
      "application/vnd.jupyter.widget-view+json": {
       "model_id": "",
       "version_major": 2,
       "version_minor": 0
      },
      "text/plain": [
       "Epoch 17/25:   0%|          | 0/17 [00:00<?, ?it/s]"
      ]
     },
     "metadata": {},
     "output_type": "display_data"
    },
    {
     "data": {
      "application/vnd.jupyter.widget-view+json": {
       "model_id": "",
       "version_major": 2,
       "version_minor": 0
      },
      "text/plain": [
       "Epoch 18/25:   0%|          | 0/17 [00:00<?, ?it/s]"
      ]
     },
     "metadata": {},
     "output_type": "display_data"
    },
    {
     "data": {
      "application/vnd.jupyter.widget-view+json": {
       "model_id": "",
       "version_major": 2,
       "version_minor": 0
      },
      "text/plain": [
       "Epoch 19/25:   0%|          | 0/17 [00:00<?, ?it/s]"
      ]
     },
     "metadata": {},
     "output_type": "display_data"
    },
    {
     "data": {
      "application/vnd.jupyter.widget-view+json": {
       "model_id": "",
       "version_major": 2,
       "version_minor": 0
      },
      "text/plain": [
       "Epoch 20/25:   0%|          | 0/17 [00:00<?, ?it/s]"
      ]
     },
     "metadata": {},
     "output_type": "display_data"
    },
    {
     "data": {
      "application/vnd.jupyter.widget-view+json": {
       "model_id": "",
       "version_major": 2,
       "version_minor": 0
      },
      "text/plain": [
       "Epoch 21/25:   0%|          | 0/17 [00:00<?, ?it/s]"
      ]
     },
     "metadata": {},
     "output_type": "display_data"
    },
    {
     "data": {
      "application/vnd.jupyter.widget-view+json": {
       "model_id": "",
       "version_major": 2,
       "version_minor": 0
      },
      "text/plain": [
       "Epoch 22/25:   0%|          | 0/17 [00:00<?, ?it/s]"
      ]
     },
     "metadata": {},
     "output_type": "display_data"
    },
    {
     "data": {
      "application/vnd.jupyter.widget-view+json": {
       "model_id": "",
       "version_major": 2,
       "version_minor": 0
      },
      "text/plain": [
       "Epoch 23/25:   0%|          | 0/17 [00:00<?, ?it/s]"
      ]
     },
     "metadata": {},
     "output_type": "display_data"
    },
    {
     "data": {
      "application/vnd.jupyter.widget-view+json": {
       "model_id": "",
       "version_major": 2,
       "version_minor": 0
      },
      "text/plain": [
       "Epoch 24/25:   0%|          | 0/17 [00:00<?, ?it/s]"
      ]
     },
     "metadata": {},
     "output_type": "display_data"
    },
    {
     "data": {
      "application/vnd.jupyter.widget-view+json": {
       "model_id": "",
       "version_major": 2,
       "version_minor": 0
      },
      "text/plain": [
       "Epoch 25/25:   0%|          | 0/17 [00:00<?, ?it/s]"
      ]
     },
     "metadata": {},
     "output_type": "display_data"
    },
    {
     "data": {
      "application/vnd.jupyter.widget-view+json": {
       "model_id": "",
       "version_major": 2,
       "version_minor": 0
      },
      "text/plain": [
       "Validating:   0%|          | 0/9 [00:00<?, ?it/s]"
      ]
     },
     "metadata": {},
     "output_type": "display_data"
    },
    {
     "name": "stdout",
     "output_type": "stream",
     "text": [
      "✅ Fold 1 Validation - AP: 0.0549\n",
      "\n",
      "========== FOLD 2/3 ==========\n",
      "🔥 STARTING TRAINING...\n"
     ]
    },
    {
     "data": {
      "application/vnd.jupyter.widget-view+json": {
       "model_id": "",
       "version_major": 2,
       "version_minor": 0
      },
      "text/plain": [
       "Epoch 1/25:   0%|          | 0/17 [00:00<?, ?it/s]"
      ]
     },
     "metadata": {},
     "output_type": "display_data"
    },
    {
     "data": {
      "application/vnd.jupyter.widget-view+json": {
       "model_id": "",
       "version_major": 2,
       "version_minor": 0
      },
      "text/plain": [
       "Epoch 2/25:   0%|          | 0/17 [00:00<?, ?it/s]"
      ]
     },
     "metadata": {},
     "output_type": "display_data"
    },
    {
     "data": {
      "application/vnd.jupyter.widget-view+json": {
       "model_id": "",
       "version_major": 2,
       "version_minor": 0
      },
      "text/plain": [
       "Epoch 3/25:   0%|          | 0/17 [00:00<?, ?it/s]"
      ]
     },
     "metadata": {},
     "output_type": "display_data"
    },
    {
     "data": {
      "application/vnd.jupyter.widget-view+json": {
       "model_id": "",
       "version_major": 2,
       "version_minor": 0
      },
      "text/plain": [
       "Epoch 4/25:   0%|          | 0/17 [00:00<?, ?it/s]"
      ]
     },
     "metadata": {},
     "output_type": "display_data"
    },
    {
     "data": {
      "application/vnd.jupyter.widget-view+json": {
       "model_id": "",
       "version_major": 2,
       "version_minor": 0
      },
      "text/plain": [
       "Epoch 5/25:   0%|          | 0/17 [00:00<?, ?it/s]"
      ]
     },
     "metadata": {},
     "output_type": "display_data"
    },
    {
     "data": {
      "application/vnd.jupyter.widget-view+json": {
       "model_id": "",
       "version_major": 2,
       "version_minor": 0
      },
      "text/plain": [
       "Epoch 6/25:   0%|          | 0/17 [00:00<?, ?it/s]"
      ]
     },
     "metadata": {},
     "output_type": "display_data"
    },
    {
     "data": {
      "application/vnd.jupyter.widget-view+json": {
       "model_id": "",
       "version_major": 2,
       "version_minor": 0
      },
      "text/plain": [
       "Epoch 7/25:   0%|          | 0/17 [00:00<?, ?it/s]"
      ]
     },
     "metadata": {},
     "output_type": "display_data"
    },
    {
     "data": {
      "application/vnd.jupyter.widget-view+json": {
       "model_id": "",
       "version_major": 2,
       "version_minor": 0
      },
      "text/plain": [
       "Epoch 8/25:   0%|          | 0/17 [00:00<?, ?it/s]"
      ]
     },
     "metadata": {},
     "output_type": "display_data"
    },
    {
     "data": {
      "application/vnd.jupyter.widget-view+json": {
       "model_id": "",
       "version_major": 2,
       "version_minor": 0
      },
      "text/plain": [
       "Epoch 9/25:   0%|          | 0/17 [00:00<?, ?it/s]"
      ]
     },
     "metadata": {},
     "output_type": "display_data"
    },
    {
     "data": {
      "application/vnd.jupyter.widget-view+json": {
       "model_id": "",
       "version_major": 2,
       "version_minor": 0
      },
      "text/plain": [
       "Epoch 10/25:   0%|          | 0/17 [00:00<?, ?it/s]"
      ]
     },
     "metadata": {},
     "output_type": "display_data"
    },
    {
     "data": {
      "application/vnd.jupyter.widget-view+json": {
       "model_id": "",
       "version_major": 2,
       "version_minor": 0
      },
      "text/plain": [
       "Epoch 11/25:   0%|          | 0/17 [00:00<?, ?it/s]"
      ]
     },
     "metadata": {},
     "output_type": "display_data"
    },
    {
     "data": {
      "application/vnd.jupyter.widget-view+json": {
       "model_id": "",
       "version_major": 2,
       "version_minor": 0
      },
      "text/plain": [
       "Epoch 12/25:   0%|          | 0/17 [00:00<?, ?it/s]"
      ]
     },
     "metadata": {},
     "output_type": "display_data"
    },
    {
     "data": {
      "application/vnd.jupyter.widget-view+json": {
       "model_id": "",
       "version_major": 2,
       "version_minor": 0
      },
      "text/plain": [
       "Epoch 13/25:   0%|          | 0/17 [00:00<?, ?it/s]"
      ]
     },
     "metadata": {},
     "output_type": "display_data"
    },
    {
     "data": {
      "application/vnd.jupyter.widget-view+json": {
       "model_id": "",
       "version_major": 2,
       "version_minor": 0
      },
      "text/plain": [
       "Epoch 14/25:   0%|          | 0/17 [00:00<?, ?it/s]"
      ]
     },
     "metadata": {},
     "output_type": "display_data"
    },
    {
     "data": {
      "application/vnd.jupyter.widget-view+json": {
       "model_id": "",
       "version_major": 2,
       "version_minor": 0
      },
      "text/plain": [
       "Epoch 15/25:   0%|          | 0/17 [00:00<?, ?it/s]"
      ]
     },
     "metadata": {},
     "output_type": "display_data"
    },
    {
     "data": {
      "application/vnd.jupyter.widget-view+json": {
       "model_id": "",
       "version_major": 2,
       "version_minor": 0
      },
      "text/plain": [
       "Epoch 16/25:   0%|          | 0/17 [00:00<?, ?it/s]"
      ]
     },
     "metadata": {},
     "output_type": "display_data"
    },
    {
     "data": {
      "application/vnd.jupyter.widget-view+json": {
       "model_id": "",
       "version_major": 2,
       "version_minor": 0
      },
      "text/plain": [
       "Epoch 17/25:   0%|          | 0/17 [00:00<?, ?it/s]"
      ]
     },
     "metadata": {},
     "output_type": "display_data"
    },
    {
     "data": {
      "application/vnd.jupyter.widget-view+json": {
       "model_id": "",
       "version_major": 2,
       "version_minor": 0
      },
      "text/plain": [
       "Epoch 18/25:   0%|          | 0/17 [00:00<?, ?it/s]"
      ]
     },
     "metadata": {},
     "output_type": "display_data"
    },
    {
     "data": {
      "application/vnd.jupyter.widget-view+json": {
       "model_id": "",
       "version_major": 2,
       "version_minor": 0
      },
      "text/plain": [
       "Epoch 19/25:   0%|          | 0/17 [00:00<?, ?it/s]"
      ]
     },
     "metadata": {},
     "output_type": "display_data"
    },
    {
     "data": {
      "application/vnd.jupyter.widget-view+json": {
       "model_id": "",
       "version_major": 2,
       "version_minor": 0
      },
      "text/plain": [
       "Epoch 20/25:   0%|          | 0/17 [00:00<?, ?it/s]"
      ]
     },
     "metadata": {},
     "output_type": "display_data"
    },
    {
     "data": {
      "application/vnd.jupyter.widget-view+json": {
       "model_id": "",
       "version_major": 2,
       "version_minor": 0
      },
      "text/plain": [
       "Epoch 21/25:   0%|          | 0/17 [00:00<?, ?it/s]"
      ]
     },
     "metadata": {},
     "output_type": "display_data"
    },
    {
     "data": {
      "application/vnd.jupyter.widget-view+json": {
       "model_id": "",
       "version_major": 2,
       "version_minor": 0
      },
      "text/plain": [
       "Epoch 22/25:   0%|          | 0/17 [00:00<?, ?it/s]"
      ]
     },
     "metadata": {},
     "output_type": "display_data"
    },
    {
     "data": {
      "application/vnd.jupyter.widget-view+json": {
       "model_id": "",
       "version_major": 2,
       "version_minor": 0
      },
      "text/plain": [
       "Epoch 23/25:   0%|          | 0/17 [00:00<?, ?it/s]"
      ]
     },
     "metadata": {},
     "output_type": "display_data"
    },
    {
     "data": {
      "application/vnd.jupyter.widget-view+json": {
       "model_id": "",
       "version_major": 2,
       "version_minor": 0
      },
      "text/plain": [
       "Epoch 24/25:   0%|          | 0/17 [00:00<?, ?it/s]"
      ]
     },
     "metadata": {},
     "output_type": "display_data"
    },
    {
     "data": {
      "application/vnd.jupyter.widget-view+json": {
       "model_id": "",
       "version_major": 2,
       "version_minor": 0
      },
      "text/plain": [
       "Epoch 25/25:   0%|          | 0/17 [00:00<?, ?it/s]"
      ]
     },
     "metadata": {},
     "output_type": "display_data"
    },
    {
     "data": {
      "application/vnd.jupyter.widget-view+json": {
       "model_id": "",
       "version_major": 2,
       "version_minor": 0
      },
      "text/plain": [
       "Validating:   0%|          | 0/9 [00:00<?, ?it/s]"
      ]
     },
     "metadata": {},
     "output_type": "display_data"
    },
    {
     "name": "stdout",
     "output_type": "stream",
     "text": [
      "✅ Fold 2 Validation - AP: 0.0689\n",
      "\n",
      "========== FOLD 3/3 ==========\n",
      "🔥 STARTING TRAINING...\n"
     ]
    },
    {
     "data": {
      "application/vnd.jupyter.widget-view+json": {
       "model_id": "",
       "version_major": 2,
       "version_minor": 0
      },
      "text/plain": [
       "Epoch 1/25:   0%|          | 0/17 [00:00<?, ?it/s]"
      ]
     },
     "metadata": {},
     "output_type": "display_data"
    },
    {
     "data": {
      "application/vnd.jupyter.widget-view+json": {
       "model_id": "",
       "version_major": 2,
       "version_minor": 0
      },
      "text/plain": [
       "Epoch 2/25:   0%|          | 0/17 [00:00<?, ?it/s]"
      ]
     },
     "metadata": {},
     "output_type": "display_data"
    },
    {
     "data": {
      "application/vnd.jupyter.widget-view+json": {
       "model_id": "",
       "version_major": 2,
       "version_minor": 0
      },
      "text/plain": [
       "Epoch 3/25:   0%|          | 0/17 [00:00<?, ?it/s]"
      ]
     },
     "metadata": {},
     "output_type": "display_data"
    },
    {
     "data": {
      "application/vnd.jupyter.widget-view+json": {
       "model_id": "",
       "version_major": 2,
       "version_minor": 0
      },
      "text/plain": [
       "Epoch 4/25:   0%|          | 0/17 [00:00<?, ?it/s]"
      ]
     },
     "metadata": {},
     "output_type": "display_data"
    },
    {
     "data": {
      "application/vnd.jupyter.widget-view+json": {
       "model_id": "",
       "version_major": 2,
       "version_minor": 0
      },
      "text/plain": [
       "Epoch 5/25:   0%|          | 0/17 [00:00<?, ?it/s]"
      ]
     },
     "metadata": {},
     "output_type": "display_data"
    },
    {
     "data": {
      "application/vnd.jupyter.widget-view+json": {
       "model_id": "",
       "version_major": 2,
       "version_minor": 0
      },
      "text/plain": [
       "Epoch 6/25:   0%|          | 0/17 [00:00<?, ?it/s]"
      ]
     },
     "metadata": {},
     "output_type": "display_data"
    },
    {
     "data": {
      "application/vnd.jupyter.widget-view+json": {
       "model_id": "",
       "version_major": 2,
       "version_minor": 0
      },
      "text/plain": [
       "Epoch 7/25:   0%|          | 0/17 [00:00<?, ?it/s]"
      ]
     },
     "metadata": {},
     "output_type": "display_data"
    },
    {
     "data": {
      "application/vnd.jupyter.widget-view+json": {
       "model_id": "",
       "version_major": 2,
       "version_minor": 0
      },
      "text/plain": [
       "Epoch 8/25:   0%|          | 0/17 [00:00<?, ?it/s]"
      ]
     },
     "metadata": {},
     "output_type": "display_data"
    },
    {
     "data": {
      "application/vnd.jupyter.widget-view+json": {
       "model_id": "",
       "version_major": 2,
       "version_minor": 0
      },
      "text/plain": [
       "Epoch 9/25:   0%|          | 0/17 [00:00<?, ?it/s]"
      ]
     },
     "metadata": {},
     "output_type": "display_data"
    },
    {
     "data": {
      "application/vnd.jupyter.widget-view+json": {
       "model_id": "",
       "version_major": 2,
       "version_minor": 0
      },
      "text/plain": [
       "Epoch 10/25:   0%|          | 0/17 [00:00<?, ?it/s]"
      ]
     },
     "metadata": {},
     "output_type": "display_data"
    },
    {
     "data": {
      "application/vnd.jupyter.widget-view+json": {
       "model_id": "",
       "version_major": 2,
       "version_minor": 0
      },
      "text/plain": [
       "Epoch 11/25:   0%|          | 0/17 [00:00<?, ?it/s]"
      ]
     },
     "metadata": {},
     "output_type": "display_data"
    },
    {
     "data": {
      "application/vnd.jupyter.widget-view+json": {
       "model_id": "",
       "version_major": 2,
       "version_minor": 0
      },
      "text/plain": [
       "Epoch 12/25:   0%|          | 0/17 [00:00<?, ?it/s]"
      ]
     },
     "metadata": {},
     "output_type": "display_data"
    },
    {
     "data": {
      "application/vnd.jupyter.widget-view+json": {
       "model_id": "",
       "version_major": 2,
       "version_minor": 0
      },
      "text/plain": [
       "Epoch 13/25:   0%|          | 0/17 [00:00<?, ?it/s]"
      ]
     },
     "metadata": {},
     "output_type": "display_data"
    },
    {
     "data": {
      "application/vnd.jupyter.widget-view+json": {
       "model_id": "",
       "version_major": 2,
       "version_minor": 0
      },
      "text/plain": [
       "Epoch 14/25:   0%|          | 0/17 [00:00<?, ?it/s]"
      ]
     },
     "metadata": {},
     "output_type": "display_data"
    },
    {
     "data": {
      "application/vnd.jupyter.widget-view+json": {
       "model_id": "",
       "version_major": 2,
       "version_minor": 0
      },
      "text/plain": [
       "Epoch 15/25:   0%|          | 0/17 [00:00<?, ?it/s]"
      ]
     },
     "metadata": {},
     "output_type": "display_data"
    },
    {
     "data": {
      "application/vnd.jupyter.widget-view+json": {
       "model_id": "",
       "version_major": 2,
       "version_minor": 0
      },
      "text/plain": [
       "Epoch 16/25:   0%|          | 0/17 [00:00<?, ?it/s]"
      ]
     },
     "metadata": {},
     "output_type": "display_data"
    },
    {
     "data": {
      "application/vnd.jupyter.widget-view+json": {
       "model_id": "",
       "version_major": 2,
       "version_minor": 0
      },
      "text/plain": [
       "Epoch 17/25:   0%|          | 0/17 [00:00<?, ?it/s]"
      ]
     },
     "metadata": {},
     "output_type": "display_data"
    },
    {
     "data": {
      "application/vnd.jupyter.widget-view+json": {
       "model_id": "",
       "version_major": 2,
       "version_minor": 0
      },
      "text/plain": [
       "Epoch 18/25:   0%|          | 0/17 [00:00<?, ?it/s]"
      ]
     },
     "metadata": {},
     "output_type": "display_data"
    },
    {
     "data": {
      "application/vnd.jupyter.widget-view+json": {
       "model_id": "",
       "version_major": 2,
       "version_minor": 0
      },
      "text/plain": [
       "Epoch 19/25:   0%|          | 0/17 [00:00<?, ?it/s]"
      ]
     },
     "metadata": {},
     "output_type": "display_data"
    },
    {
     "data": {
      "application/vnd.jupyter.widget-view+json": {
       "model_id": "",
       "version_major": 2,
       "version_minor": 0
      },
      "text/plain": [
       "Epoch 20/25:   0%|          | 0/17 [00:00<?, ?it/s]"
      ]
     },
     "metadata": {},
     "output_type": "display_data"
    },
    {
     "data": {
      "application/vnd.jupyter.widget-view+json": {
       "model_id": "",
       "version_major": 2,
       "version_minor": 0
      },
      "text/plain": [
       "Epoch 21/25:   0%|          | 0/17 [00:00<?, ?it/s]"
      ]
     },
     "metadata": {},
     "output_type": "display_data"
    },
    {
     "data": {
      "application/vnd.jupyter.widget-view+json": {
       "model_id": "",
       "version_major": 2,
       "version_minor": 0
      },
      "text/plain": [
       "Epoch 22/25:   0%|          | 0/17 [00:00<?, ?it/s]"
      ]
     },
     "metadata": {},
     "output_type": "display_data"
    },
    {
     "data": {
      "application/vnd.jupyter.widget-view+json": {
       "model_id": "",
       "version_major": 2,
       "version_minor": 0
      },
      "text/plain": [
       "Epoch 23/25:   0%|          | 0/17 [00:00<?, ?it/s]"
      ]
     },
     "metadata": {},
     "output_type": "display_data"
    },
    {
     "data": {
      "application/vnd.jupyter.widget-view+json": {
       "model_id": "",
       "version_major": 2,
       "version_minor": 0
      },
      "text/plain": [
       "Epoch 24/25:   0%|          | 0/17 [00:00<?, ?it/s]"
      ]
     },
     "metadata": {},
     "output_type": "display_data"
    },
    {
     "data": {
      "application/vnd.jupyter.widget-view+json": {
       "model_id": "",
       "version_major": 2,
       "version_minor": 0
      },
      "text/plain": [
       "Epoch 25/25:   0%|          | 0/17 [00:00<?, ?it/s]"
      ]
     },
     "metadata": {},
     "output_type": "display_data"
    },
    {
     "data": {
      "application/vnd.jupyter.widget-view+json": {
       "model_id": "",
       "version_major": 2,
       "version_minor": 0
      },
      "text/plain": [
       "Validating:   0%|          | 0/9 [00:00<?, ?it/s]"
      ]
     },
     "metadata": {},
     "output_type": "display_data"
    },
    {
     "name": "stdout",
     "output_type": "stream",
     "text": [
      "✅ Fold 3 Validation - AP: 0.0517\n",
      "\n",
      "\n",
      "📊 CROSS-VALIDATION SUMMARY\n",
      "============================================================\n",
      "  - Mean AP ± Std Dev: 0.0585 ± 0.0075\n",
      "\n",
      "💾 Final model from last fold saved to 'final_swinunet.pth'\n",
      "🗑️ Removed temporary checkpoint file: 'swinunet_checkpoint.pth'\n",
      "\n",
      "🎉 SwinUnet TRAINING COMPLETED!\n",
      "\n",
      "--- Step 3: Generating Visualizations and Saving Results for SwinUnet ---\n",
      "✅ Visualization saved to 'swinunet_predictions.png'\n"
     ]
    },
    {
     "data": {
      "image/png": "[encoded data removed]",
      "text/plain": [
       "<Figure size 1500x2000 with 12 Axes>"
      ]
     },
     "metadata": {},
     "output_type": "display_data"
    },
    {
     "name": "stdout",
     "output_type": "stream",
     "text": [
      "\n",
      "📊 PREDICTION STATISTICS:\n",
      "🔥 True fire pixels in displayed samples: 479\n",
      "🎯 Predicted fire pixels (threshold > 0.5): 89\n",
      "📈 Average prediction confidence: 0.0065\n",
      "✅ Results for 'SwinUnet' appended to 'model_results.txt'\n"
     ]
    }
   ],
   "source": [
    "# --- EXECUTION FOR THE COMBINED TIME-SERIES MODEL WITH SWIN-UNET ---\n",
    "\n",
    "# --- MODEL CONFIGURATION ---\n",
    "model_name = \"SwinUnet\"\n",
    "checkpoint_file = \"swinunet_checkpoint.pth\"\n",
    "\n",
    "# Get the number of input channels from a sample item\n",
    "sample_x, _ = WildfireDataset(data_dir=DATA_DIR, max_sequences=1)[0]\n",
    "num_input_channels = sample_x.shape[0]\n",
    "\n",
    "# Define the arguments for the SwinUnet model (a \"tiny\" configuration)\n",
    "swinunet_args = {\n",
    "    'img_size': 64,\n",
    "    'patch_size': 4,\n",
    "    'in_chans': num_input_channels,\n",
    "    'num_classes': 1,\n",
    "    'embed_dim': 96, # Starting dimension\n",
    "    'depths': [2, 2, 2], # Blocks per encoder/decoder stage\n",
    "    'num_heads': [3, 6, 12],\n",
    "    'window_size': 4,\n",
    "    'mlp_ratio': 4.\n",
    "}\n",
    "print(f\"✅ Model configured: {model_name} with {num_input_channels} input channels.\")\n",
    "\n",
    "\n",
    "# 1. Initialize the Dataset (without loading all data into RAM)\n",
    "print(\"\\n--- Step 1: Preparing Dataset ---\")\n",
    "temp_dataset = WildfireDataset(data_dir=DATA_DIR, num_timesteps=4, max_sequences=100)\n",
    "normalization_stats = calculate_normalization_stats(temp_dataset, num_samples=100)\n",
    "\n",
    "full_dataset = WildfireDataset(\n",
    "    data_dir=DATA_DIR,\n",
    "    num_timesteps=4,\n",
    "    max_sequences=100,\n",
    "    normalization_stats=normalization_stats\n",
    ")\n",
    "\n",
    "# 2. Train the Swin-Unet model\n",
    "final_model_swinunet = None\n",
    "cv_results_swinunet = []\n",
    "viz_stats_swinunet = None\n",
    "\n",
    "if len(full_dataset) > 0:\n",
    "    print(f\"\\n--- Step 2: Training {model_name} ---\")\n",
    "\n",
    "    final_model_swinunet, cv_results_swinunet = train_fire_model_cv_pytorch(\n",
    "        dataset=full_dataset,\n",
    "        model_class=SwinUnet,\n",
    "        model_args=swinunet_args,\n",
    "        n_splits=3,\n",
    "        epochs=25,\n",
    "        batch_size=4,\n",
    "        checkpoint_path=checkpoint_file\n",
    "    )\n",
    "\n",
    "    if cv_results_swinunet:\n",
    "        print(f\"\\n🎉 {model_name} TRAINING COMPLETED!\")\n",
    "    else:\n",
    "        print(f\"❌ {model_name} training failed or was interrupted!\")\n",
    "else:\n",
    "    print(f\"❌ Cannot train model - dataset is empty!\")\n",
    "\n",
    "# 3. Visualization and Saving Results\n",
    "if final_model_swinunet is not None:\n",
    "    print(f\"\\n--- Step 3: Generating Visualizations and Saving Results for {model_name} ---\")\n",
    "\n",
    "    kfold = KFold(n_splits=3, shuffle=True, random_state=42)\n",
    "    _, val_indices = list(kfold.split(full_dataset))[-1]\n",
    "\n",
    "    num_viz_samples = min(4, len(val_indices))\n",
    "    if num_viz_samples > 0:\n",
    "        viz_inputs, viz_targets = [], []\n",
    "        for i in range(num_viz_samples):\n",
    "            x, y = full_dataset[val_indices[i]]\n",
    "            viz_inputs.append(np.transpose(x.numpy(), (1, 2, 0))) # H, W, C\n",
    "            viz_targets.append(np.transpose(y.numpy(), (1, 2, 0)))\n",
    "\n",
    "        X_test_norm = np.array(viz_inputs)\n",
    "        y_test_binary = np.array(viz_targets)\n",
    "\n",
    "        viz_stats_swinunet = visualize_fire_predictions_pytorch(\n",
    "            final_model_swinunet, X_test_norm, y_test_binary, num_samples=num_viz_samples, save_path=\"swinunet_predictions.png\"\n",
    "        )\n",
    "        \n",
    "        save_results_to_file(model_name, cv_results_swinunet, viz_stats_swinunet)\n",
    "\n",
    "    else:\n",
    "        print(\"Not enough validation samples to visualize.\")\n",
    "\n",
    "else:\n",
    "    print(f\"\\n⚠️ {model_name} model not available for evaluation.\")"
   ]
  }
 ],
 "metadata": {
  "kaggle": {
   "accelerator": "gpu",
   "dataSources": [
    {
     "datasetId": 6194637,
     "sourceId": 10053423,
     "sourceType": "datasetVersion"
    }
   ],
   "isGpuEnabled": true,
   "isInternetEnabled": true,
   "language": "python",
   "sourceType": "notebook"
  },
  "kernelspec": {
   "display_name": "Python 3",
   "language": "python",
   "name": "python3"
  },
  "language_info": {
   "codemirror_mode": {
    "name": "ipython",
    "version": 3
   },
   "file_extension": ".py",
   "mimetype": "text/x-python",
   "name": "python",
   "nbconvert_exporter": "python",
   "pygments_lexer": "ipython3",
   "version": "3.11.13"
  }
 },
 "nbformat": 4,
 "nbformat_minor": 5
}
